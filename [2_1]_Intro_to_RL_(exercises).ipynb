{
  "cells": [
    {
      "cell_type": "markdown",
      "metadata": {
        "id": "view-in-github",
        "colab_type": "text"
      },
      "source": [
        "<a href=\"https://colab.research.google.com/github/abinayadinesh1/RL-Arena/blob/main/%5B2_1%5D_Intro_to_RL_(exercises).ipynb\" target=\"_parent\"><img src=\"https://colab.research.google.com/assets/colab-badge.svg\" alt=\"Open In Colab\"/></a>"
      ]
    },
    {
      "cell_type": "markdown",
      "source": [
        "# [2.1] - Intro to RL (exercises)\n"
      ],
      "metadata": {
        "id": "NJyOwAhWRjjO"
      }
    },
    {
      "cell_type": "markdown",
      "metadata": {
        "id": "NzpGGRLH1tc8"
      },
      "source": [
        "Colab: [exercises](https://colab.research.google.com/drive/1CcKUlDs0mwsfTuY1bCvpMmYDD5ymz0ID?usp=sharing) | [solutions](https://colab.research.google.com/drive/1FHKYlXXZfFsdnOlp_WxN4T6PzbrUjKX0?usp=sharing)\n",
        "\n",
        "[Streamlit page](https://arena3-chapter2-rl.streamlit.app/)\n",
        "\n",
        "Please send any problems / bugs on the `#errata` channel in the [Slack group](https://join.slack.com/t/arena-uk/shared_invite/zt-28h0xs49u-ZN9ZDbGXl~oCorjbBsSQag), and ask any questions on the dedicated channels for this chapter of material."
      ]
    },
    {
      "cell_type": "markdown",
      "metadata": {
        "id": "ST7GZ0xkxW6j"
      },
      "source": [
        "<img src=\"https://raw.githubusercontent.com/callummcdougall/computational-thread-art/master/example_images/misc/bandit.png\" width=\"350\">\n"
      ]
    },
    {
      "cell_type": "markdown",
      "metadata": {
        "id": "jd3LpCav3UXu"
      },
      "source": [
        "# Introduction"
      ]
    },
    {
      "cell_type": "markdown",
      "metadata": {
        "id": "7yqXX1etDP-V"
      },
      "source": [
        "This section is designed to bring you up to speed with the basics of reinforcement learning. Before we cover the big topics like PPO and RLHF, we need to build a strong foundation by understanding what RL is and what kinds of problems it was designed to solve.\n",
        "\n",
        "In today's exercises, we'll make two important assumptions about our environment: the space of possible actions and states is discrete, and the entire environment is obvservable (in other words, the probability distribution of the outcome of every possible action at every possible state is known). As we move on in the chapter, we'll relax these assumptions, and so we'll need to start using more complex methods."
      ]
    },
    {
      "cell_type": "markdown",
      "metadata": {
        "id": "g5cxEA1pDP-V"
      },
      "source": [
        "## Content & Learning Objectives\n"
      ]
    },
    {
      "cell_type": "markdown",
      "metadata": {
        "id": "V321hm0BDP-W"
      },
      "source": [
        "#### 1️⃣ Multi-Armed Bandit\n",
        "\n",
        "In Part 1 we'll study the multi-armed bandit problem, which is simple yet captures introduces many of the difficulties in RL. Many practical problems can be posed in terms of generalizations of the multi-armed bandit. For example, the Hyperband algorithm for hyperparameter optimization is based on the multi-armed bandit with an infinite number of arms.\n",
        "\n",
        "> ##### Learning Objectives\n",
        ">\n",
        "> * Understand the anatomy of a `gym.Env`, so that you feel comfortable using them and writing your own\n",
        "> * Practice RL in the tabular (lookup table) setting before adding the complications of neural networks\n",
        "> * Understand the difficulty of optimal exploration\n",
        "> * Understand that performance is extremely variable in RL, and how to measure performance\n",
        "\n",
        "#### 2️⃣ Tabular RL & Policy Improvement\n",
        "\n",
        "Next, we'll start to get into the weeds of some of the mathematical formulations of RL. Some important concepts to cover are **Markov processes**, the **value function** and the **Bellman equation**.\n",
        "\n",
        "We'll then put this into practice on some basic gridworld environments.\n",
        "\n",
        "> ##### Learning Objectives\n",
        ">\n",
        "> * Understand the tabular RL problem, for known environments.\n",
        "> * Learn how to numerically evaluate a given policy (via an iterative update formula).\n",
        "> * Understand the policy improvement theorem, and understand what circumstances can allow us to directly solve for the optimal policy.\n"
      ]
    },
    {
      "cell_type": "markdown",
      "metadata": {
        "id": "2FdRD-CmDP-W"
      },
      "source": [
        "## Setup (don't read, just run!)\n"
      ]
    },
    {
      "cell_type": "code",
      "source": [
        "try:\n",
        "    import google.colab # type: ignore\n",
        "    IN_COLAB = True\n",
        "except:\n",
        "    IN_COLAB = False\n",
        "\n",
        "import os, sys\n",
        "chapter = \"chapter2_rl\"\n",
        "repo = \"ARENA_3.0\"\n",
        "\n",
        "if IN_COLAB:\n",
        "\n",
        "    if not os.path.exists(f\"/content/{chapter}\"):\n",
        "\n",
        "        # Install packages\n",
        "        %pip install einops\n",
        "        %pip install gym==0.23.1\n",
        "        %pip install jaxtyping\n",
        "\n",
        "        # Clone repo\n",
        "        os.system(f\"wget https://github.com/callummcdougall/{repo}/archive/refs/heads/main.zip\")\n",
        "        os.system(f\"unzip /content/main.zip '{repo}-main/{chapter}/exercises/*'\")\n",
        "        sys.path.append(f\"/content/{repo}-main/{chapter}/exercises\")\n",
        "        os.remove(\"/content/main.zip\")\n",
        "        os.rename(f\"{repo}-main/{chapter}\", chapter)\n",
        "        os.rmdir(f\"{repo}-main\")\n",
        "\n",
        "    os.chdir(f\"{chapter}/exercises\")\n",
        "else:\n",
        "    raise Exception(\"If running from VSCode, you should copy code from the Streamlit page, not the Colab.\")"
      ],
      "metadata": {
        "id": "GmVzTinWi6bA",
        "outputId": "3fcd19fe-3954-4576-bcbd-11434d9780bb",
        "colab": {
          "base_uri": "https://localhost:8080/"
        }
      },
      "execution_count": 1,
      "outputs": [
        {
          "output_type": "stream",
          "name": "stdout",
          "text": [
            "Requirement already satisfied: einops in /usr/local/lib/python3.10/dist-packages (0.8.0)\n",
            "Collecting gym==0.23.1\n",
            "  Downloading gym-0.23.1.tar.gz (626 kB)\n",
            "\u001b[2K     \u001b[90m━━━━━━━━━━━━━━━━━━━━━━━━━━━━━━━━━━━━━━━━\u001b[0m \u001b[32m626.2/626.2 kB\u001b[0m \u001b[31m6.5 MB/s\u001b[0m eta \u001b[36m0:00:00\u001b[0m\n",
            "\u001b[?25h  Installing build dependencies ... \u001b[?25l\u001b[?25hdone\n",
            "  Getting requirements to build wheel ... \u001b[?25l\u001b[?25hdone\n",
            "  Preparing metadata (pyproject.toml) ... \u001b[?25l\u001b[?25hdone\n",
            "Requirement already satisfied: numpy>=1.18.0 in /usr/local/lib/python3.10/dist-packages (from gym==0.23.1) (1.26.4)\n",
            "Requirement already satisfied: cloudpickle>=1.2.0 in /usr/local/lib/python3.10/dist-packages (from gym==0.23.1) (3.1.0)\n",
            "Requirement already satisfied: gym-notices>=0.0.4 in /usr/local/lib/python3.10/dist-packages (from gym==0.23.1) (0.0.8)\n",
            "Building wheels for collected packages: gym\n",
            "  Building wheel for gym (pyproject.toml) ... \u001b[?25l\u001b[?25hdone\n",
            "  Created wheel for gym: filename=gym-0.23.1-py3-none-any.whl size=701344 sha256=31f9eb95c707f2c716e925d7ff8ee22fc46a0f295fd38df32866b242f4ca936f\n",
            "  Stored in directory: /root/.cache/pip/wheels/1a/00/fb/fe5cf2860fb9b7bc860e28f00095a1f42c7b726dd6f42d1acc\n",
            "Successfully built gym\n",
            "Installing collected packages: gym\n",
            "  Attempting uninstall: gym\n",
            "    Found existing installation: gym 0.25.2\n",
            "    Uninstalling gym-0.25.2:\n",
            "      Successfully uninstalled gym-0.25.2\n",
            "Successfully installed gym-0.23.1\n",
            "Collecting jaxtyping\n",
            "  Downloading jaxtyping-0.2.34-py3-none-any.whl.metadata (6.4 kB)\n",
            "Collecting typeguard==2.13.3 (from jaxtyping)\n",
            "  Downloading typeguard-2.13.3-py3-none-any.whl.metadata (3.6 kB)\n",
            "Downloading jaxtyping-0.2.34-py3-none-any.whl (42 kB)\n",
            "\u001b[2K   \u001b[90m━━━━━━━━━━━━━━━━━━━━━━━━━━━━━━━━━━━━━━━━\u001b[0m \u001b[32m42.4/42.4 kB\u001b[0m \u001b[31m2.5 MB/s\u001b[0m eta \u001b[36m0:00:00\u001b[0m\n",
            "\u001b[?25hDownloading typeguard-2.13.3-py3-none-any.whl (17 kB)\n",
            "Installing collected packages: typeguard, jaxtyping\n",
            "  Attempting uninstall: typeguard\n",
            "    Found existing installation: typeguard 4.3.0\n",
            "    Uninstalling typeguard-4.3.0:\n",
            "      Successfully uninstalled typeguard-4.3.0\n",
            "\u001b[31mERROR: pip's dependency resolver does not currently take into account all the packages that are installed. This behaviour is the source of the following dependency conflicts.\n",
            "inflect 7.4.0 requires typeguard>=4.0.1, but you have typeguard 2.13.3 which is incompatible.\u001b[0m\u001b[31m\n",
            "\u001b[0mSuccessfully installed jaxtyping-0.2.34 typeguard-2.13.3\n"
          ]
        }
      ]
    },
    {
      "cell_type": "code",
      "execution_count": 2,
      "metadata": {
        "id": "DRz7HJe6DP-X"
      },
      "outputs": [],
      "source": [
        "\n",
        "import os\n",
        "import sys\n",
        "from typing import Optional, Union, List, Tuple\n",
        "import plotly.express as px\n",
        "import plotly.graph_objects as go\n",
        "import numpy as np\n",
        "import random\n",
        "from tqdm import tqdm\n",
        "import einops\n",
        "from pathlib import Path\n",
        "import matplotlib.pyplot as plt\n",
        "import gym\n",
        "import gym.envs.registration\n",
        "import gym.spaces\n",
        "\n",
        "Arr = np.ndarray\n",
        "max_episode_steps = 1000\n",
        "N_RUNS = 200\n",
        "\n",
        "# Make sure exercises are in the path\n",
        "exercises_dir = Path(f\"{os.getcwd().split(chapter)[0]}/{chapter}/exercises\").resolve()\n",
        "section_dir = (exercises_dir / \"part1_intro_to_rl\").resolve()\n",
        "if str(exercises_dir) not in sys.path: sys.path.append(str(exercises_dir))\n",
        "\n",
        "import part1_intro_to_rl.utils as utils\n",
        "import part1_intro_to_rl.tests as tests\n",
        "from plotly_utils import imshow\n",
        "\n",
        "MAIN = __name__ == \"__main__\""
      ]
    },
    {
      "cell_type": "markdown",
      "metadata": {
        "id": "0fIDmvKFDP-X"
      },
      "source": [
        "# 1️⃣ Multi-Armed Bandit\n"
      ]
    },
    {
      "cell_type": "markdown",
      "metadata": {
        "id": "ipebVMfDDP-X"
      },
      "source": [
        "> ##### Learning Objectives\n",
        ">\n",
        "> * Understand the anatomy of a `gym.Env`, so that you feel comfortable using them and writing your own\n",
        "> * Practice RL in the tabular (lookup table) setting before adding the complications of neural networks\n",
        "> * Understand the difficulty of optimal exploration\n",
        "> * Understand that performance is extremely variable in RL, and how to measure performance\n"
      ]
    },
    {
      "cell_type": "markdown",
      "metadata": {
        "id": "5F1V0jkdDP-X"
      },
      "source": [
        "## Readings\n",
        "\n",
        "* [Sutton and Barto](https://www.andrew.cmu.edu/course/10-703/textbook/BartoSutton.pdf), Chapter 2 (25 minutes)\n",
        "    * Section 2.1: A k-armed Bandit Problem through to Section 2.7 Upper-Confidence-Bound Action Section\n",
        "    * We won't cover Gradient Bandits. Don't worry about these.\n",
        "    * Don't worry too much about all the math for the moment if you can't follow it. The earlier sections are more important."
      ]
    },
    {
      "cell_type": "markdown",
      "metadata": {
        "id": "Otar3QYTDP-X"
      },
      "source": [
        "## Intro to OpenAI Gym\n",
        "\n",
        "Today and for the rest of this week, we'll be using OpenAI Gym, which provides a uniform interface to many different RL environments including Atari games. Gym was released in 2016 and details of the API have changed significantly over the years. We are using version 0.23.1, so ensure that any documentation you use refers to the same version.\n",
        "\n",
        "Below, we've provided a simple environment for the multi-armed bandit described in the Sutton and Barto reading. Here, an action is an integer indicating the choice of arm to pull, and an observation is the constant integer 0, since there's nothing to observe here. Even though the agent does in some sense observe the reward, the reward is always a separate variable from the observation.\n",
        "\n",
        "We're using NumPy for this section. PyTorch provides GPU support and autograd, neither of which is of any use to environment code or the code we're writing today.\n",
        "\n",
        "Read the `MultiArmedBandit` code carefully and make sure you understand how the Gym environment API works.\n"
      ]
    },
    {
      "cell_type": "markdown",
      "metadata": {
        "id": "3Nek2BOtDP-Y"
      },
      "source": [
        "### The `info` dictionary\n",
        "\n",
        "The environment's `step` method returns four values: `obs`, `reward`, `done`, and the `info` dictionary.\n",
        "\n",
        "`info` can contain anything extra that doesn't fit into the uniform interface - it's up to the environment what to put into it. A good use of this is for debugging information that the agent isn't \"supposed\" to see. In this case, we'll return the index of the actual best arm. This would allow us to measure how often the agent chooses the best arm, but it would also allow us to build a \"cheating\" agent that peeks at this information to make its decision.\n",
        "\n",
        "Cheating agents are helpful because we know that they should obtain the maximum possible rewards; if they aren't, then there's a bug.\n",
        "\n",
        "### The `render()` method\n",
        "\n",
        "Render is only used for debugging or entertainment, and what it does is up to the environment. It might render a little popup window showing the Atari game, or it might give you a RGB image tensor, or just some ASCII text describing what's happening. In this case, we'll just make a little plot showing the distribution of rewards for each arm of the bandit.\n",
        "\n",
        "### Observation and Action Types\n",
        "\n",
        "A `gym.Env` is a generic type: both the type of the observations and the type of the actions depends on the specifics of the environment.\n",
        "\n",
        "We're only dealing with the simplest case: a discrete set of actions which are the same in every state (and ditto for observations). In general, the actions could be continuous, or depend on the state.\n"
      ]
    },
    {
      "cell_type": "code",
      "execution_count": 3,
      "metadata": {
        "id": "iYmB6ZhIDP-Y",
        "outputId": "2426f7c1-ef5d-47a0-ad5e-60c8e56d6966",
        "colab": {
          "base_uri": "https://localhost:8080/"
        }
      },
      "outputs": [
        {
          "output_type": "stream",
          "name": "stderr",
          "text": [
            "/usr/local/lib/python3.10/dist-packages/ipykernel/ipkernel.py:283: DeprecationWarning: `should_run_async` will not call `transform_cell` automatically in the future. Please pass the result to `transformed_cell` argument and any exception that happen during thetransform in `preprocessing_exc_tuple` in IPython 7.17 and above.\n",
            "  and should_run_async(code)\n"
          ]
        }
      ],
      "source": [
        "ObsType = int\n",
        "ActType = int\n",
        "\n",
        "class MultiArmedBandit(gym.Env):\n",
        "    '''\n",
        "    A class representing a multi-armed bandit environment, based on OpenAI Gym's Env class.\n",
        "\n",
        "    Attributes:\n",
        "        action_space (gym.spaces.Discrete): The space of possible actions, representing the arms of the bandit.\n",
        "        observation_space (gym.spaces.Discrete): The space of possible observations.\n",
        "        num_arms (int): The number of arms in the bandit.\n",
        "        stationary (bool): Indicates whether the reward distribution (i.e. the arm_reward_means) is stationary or not.\n",
        "        arm_reward_means (np.ndarray): The mean rewards for each arm.\n",
        "    '''\n",
        "    action_space: gym.spaces.Discrete\n",
        "    observation_space: gym.spaces.Discrete\n",
        "    num_arms: int\n",
        "    stationary: bool\n",
        "    arm_reward_means: np.ndarray\n",
        "\n",
        "    def __init__(self, num_arms=10, stationary=True):\n",
        "        '''\n",
        "        Initializes the MultiArmedBandit environment.\n",
        "\n",
        "        Args:\n",
        "            num_arms (int): The number of arms for the bandit. Defaults to 10.\n",
        "            stationary (bool): Whether the bandit has a stationary reward distribution. Defaults to True.\n",
        "        '''\n",
        "        super().__init__()\n",
        "        self.num_arms = num_arms\n",
        "        self.stationary = stationary\n",
        "        self.observation_space = gym.spaces.Discrete(1)\n",
        "        self.action_space = gym.spaces.Discrete(num_arms)\n",
        "        self.reset()\n",
        "\n",
        "    def step(self, arm: ActType) -> Tuple[ObsType, float, bool, dict]:\n",
        "        '''\n",
        "        Takes an action by choosing an arm and returns the result of the action.\n",
        "\n",
        "        Args:\n",
        "            arm (ActType): The selected arm to pull in the bandit.\n",
        "\n",
        "        Returns:\n",
        "            Tuple[ObsType, float, bool, dict]: A tuple containing the observation, reward, done flag, and additional info.\n",
        "        '''\n",
        "        assert self.action_space.contains(arm)\n",
        "        if not self.stationary:\n",
        "            q_drift = self.np_random.normal(loc=0.0, scale=0.01, size=self.num_arms)\n",
        "            self.arm_reward_means += q_drift\n",
        "            self.best_arm = int(np.argmax(self.arm_reward_means))\n",
        "        reward = self.np_random.normal(loc=self.arm_reward_means[arm], scale=1.0)\n",
        "        obs = 0\n",
        "        done = False\n",
        "        info = dict(best_arm=self.best_arm)\n",
        "        return (obs, reward, done, info)\n",
        "\n",
        "    def reset(self, seed: Optional[int]=None, options=None) -> ObsType:\n",
        "        '''\n",
        "        Resets the environment to its initial state.\n",
        "\n",
        "        Args:\n",
        "            seed (Optional[int]): The seed for random number generation. Defaults to None.\n",
        "            return_info (bool): If True, return additional info. Defaults to False.\n",
        "            options (dict): Additional options for environment reset. Defaults to None.\n",
        "\n",
        "        Returns:\n",
        "            ObsType: The initial observation.\n",
        "        '''\n",
        "        super().reset(seed=seed)\n",
        "        if self.stationary:\n",
        "            self.arm_reward_means = self.np_random.normal(loc=0.0, scale=1.0, size=self.num_arms)\n",
        "        else:\n",
        "            self.arm_reward_means = np.zeros(shape=[self.num_arms])\n",
        "        self.best_arm = int(np.argmax(self.arm_reward_means))\n",
        "        return 0\n",
        "\n",
        "    def render(self, mode=\"human\"):\n",
        "        '''\n",
        "        Renders the state of the environment, in the form of a violin plot.\n",
        "        '''\n",
        "        assert mode == \"human\", f\"Mode {mode} not supported!\"\n",
        "        bandit_samples = []\n",
        "        for arm in range(self.action_space.n):\n",
        "            bandit_samples += [np.random.normal(loc=self.arm_reward_means[arm], scale=1.0, size=1000)]\n",
        "        plt.violinplot(bandit_samples, showmeans=True)\n",
        "        plt.xlabel(\"Bandit Arm\")\n",
        "        plt.ylabel(\"Reward Distribution\")\n",
        "        plt.show()"
      ]
    },
    {
      "cell_type": "markdown",
      "metadata": {
        "id": "p3c2VcZMDP-Y"
      },
      "source": [
        "### Registering an Environment\n",
        "\n",
        "User code normally won't use the constructor of an `Env` directly for two reasons:\n",
        "\n",
        "- Usually, we want to wrap our `Env` in one or more wrapper classes.\n",
        "- If we want to test our agent on a variety of environments, it's annoying to have to import all the `Env` classes directly.\n",
        "\n",
        "The `register` function stores information about our `Env` in a registry so that a later call to `gym.make` can look it up using the `id` string that is passed in.\n",
        "\n",
        "By convention, the `id` strings have a suffix with a version number. There can be multiple versions of the \"same\" environment with different parameters, and benchmarks should always report the version number for a fair comparison. For instance, `id=\"ArmedBanditTestbed-v0\"` below.\n"
      ]
    },
    {
      "cell_type": "markdown",
      "metadata": {
        "id": "rkGxllgmDP-Y"
      },
      "source": [
        "#### TimeLimit Wrapper\n",
        "\n",
        "As defined, our environment never terminates; the `done` flag is always False so the agent would keep playing forever. By setting `max_episode_steps` here, we cause our env to be wrapped in a `TimeLimit` wrapper class which terminates the episode after that number of steps. This works by having the `done` object returned by the `step` function be overridden after `max_episode_steps`, and set to `True`.\n",
        "\n",
        "The time limit is also an essential part of the problem definition: if it were larger or shorter, there would be more or less time to explore, which means that different algorithms (or at least different hyperparameters) would then have improved performance.\n",
        "\n",
        "*Note - the `gym` library is well known for being pretty janky and having annoying errors and warnings! You should generally ignore these warnings unless they're causing you problems e.g. you're failing tests.*\n"
      ]
    },
    {
      "cell_type": "code",
      "source": [
        "gym.envs.registration.register(\n",
        "    id=\"ArmedBanditTestbed-v0\",\n",
        "    entry_point=MultiArmedBandit,\n",
        "    max_episode_steps=max_episode_steps,\n",
        "    nondeterministic=True,\n",
        "    reward_threshold=1.0,\n",
        "    kwargs={\"num_arms\": 10, \"stationary\": True},\n",
        ")\n",
        "\n",
        "env = gym.make(\"ArmedBanditTestbed-v0\")\n",
        "print(f\"Our env inside its wrappers looks like: {env}\")"
      ],
      "metadata": {
        "id": "SvKJWExsL8MM",
        "outputId": "a492bc6c-1839-4e0e-8b17-87594ec5fec8",
        "colab": {
          "base_uri": "https://localhost:8080/"
        }
      },
      "execution_count": 4,
      "outputs": [
        {
          "output_type": "stream",
          "name": "stdout",
          "text": [
            "Our env inside its wrappers looks like: <TimeLimit<OrderEnforcing<MultiArmedBandit<ArmedBanditTestbed-v0>>>>\n"
          ]
        }
      ]
    },
    {
      "cell_type": "markdown",
      "metadata": {
        "id": "60bx1EmrDP-Y"
      },
      "source": [
        "#### A Note on (pseudo) RNGs\n",
        "\n",
        "The PRNG that `gym.Env` provides as `self.np_random` is from the [PCG family](https://www.pcg-random.org/index.html). In RL code, you often need massive quantities of pseudorandomly generated numbers, so it's important to have a generator that is both very fast and has good quality output.\n",
        "\n",
        "When you call `np.random.randint` or similar, you're using the old-school Mersenne Twister algorithm which is both slower and has inferior quality output to PCG. Since Numpy 1.17, you can use `np.random.default_rng()` to get a PCG generator and then use its `integers` method to get random integers.\n"
      ]
    },
    {
      "cell_type": "markdown",
      "source": [
        "## Agent class\n",
        "\n",
        "Now, you'll start defining agents to act within this class.\n",
        "\n",
        "You'll be defining your agents as subclasses of the base class `Agent` for agents in a multi-armed bandit environment, given below. It contains the following methods:\n",
        "\n",
        "* `get_action`, which returns the agent's next action. This doesn't take state as an argument, because the state of the multi armed bandit game is always the same.\n",
        "    * This isn't implemented for `Agent`, because we'll implement it separately for each agent we build on top of the base agent.\n",
        "* `observe`, which determines what the model does when it observes a particular action & reward combination.\n",
        "    * The default behaviour is to do nothing, although for some agents we'll implement more complicated behaviour.\n",
        "* `reset`, which is run before each episode starts.\n",
        "    * All that the base method does is reset the random number generator, but again future agents might need to do more, e.g. reset data gathered from the `observe` method.\n",
        "\n",
        "Additionally, the `run_episode` function will run a single episode of interaction between an agent and the environment. As discussed above, this will terminate after `max_episode_steps` for our environment (we've set this to be 1000). The `run_agent` function calls `run_episode` multiple times in series."
      ],
      "metadata": {
        "id": "kzy90jt9qcbI"
      }
    },
    {
      "cell_type": "code",
      "source": [
        "class Agent:\n",
        "    '''\n",
        "    Base class for agents in a multi-armed bandit environment\n",
        "\n",
        "    (you do not need to add any implementation here)\n",
        "    '''\n",
        "    rng: np.random.Generator\n",
        "\n",
        "    def __init__(self, num_arms: int, seed: int):\n",
        "        self.num_arms = num_arms\n",
        "        self.reset(seed)\n",
        "\n",
        "    def get_action(self) -> ActType:\n",
        "        raise NotImplementedError()\n",
        "\n",
        "    def observe(self, action: ActType, reward: float, info: dict) -> None:\n",
        "        pass\n",
        "\n",
        "    def reset(self, seed: int) -> None:\n",
        "        self.rng = np.random.default_rng(seed)\n",
        "\n",
        "\n",
        "def run_episode(env: gym.Env, agent: Agent, seed: int):\n",
        "    '''\n",
        "    Runs a single episode of interaction between an agent and an environment.\n",
        "\n",
        "    Args:\n",
        "        env (gym.Env): The environment in which the agent operates.\n",
        "        agent (Agent): The agent that takes actions in the environment.\n",
        "        seed (int): The seed for random number generation to ensure reproducibility.\n",
        "\n",
        "    Returns:\n",
        "        Tuple[np.ndarray, np.ndarray]: A tuple containing arrays of rewards\n",
        "        received in each step and a flag indicating if the chosen arm was the best.\n",
        "    '''\n",
        "    (rewards, was_best) = ([], [])\n",
        "\n",
        "    env.reset(seed=seed)\n",
        "    agent.reset(seed=seed)\n",
        "\n",
        "    done = False\n",
        "    while not done:\n",
        "        arm = agent.get_action()\n",
        "        (obs, reward, done, info) = env.step(arm)\n",
        "        agent.observe(arm, reward, info)\n",
        "        rewards.append(reward)\n",
        "        was_best.append(1 if arm == info[\"best_arm\"] else 0)\n",
        "\n",
        "    rewards = np.array(rewards, dtype=float)\n",
        "    was_best = np.array(was_best, dtype=int)\n",
        "    return (rewards, was_best)\n",
        "\n",
        "\n",
        "def run_agent(env: gym.Env, agent: Agent, n_runs=200, base_seed=1):\n",
        "    all_rewards = []\n",
        "    all_was_bests = []\n",
        "    base_rng = np.random.default_rng(base_seed)\n",
        "    for n in tqdm(range(n_runs)):\n",
        "        seed = base_rng.integers(low=0, high=10_000, size=1).item()\n",
        "        (rewards, corrects) = run_episode(env, agent, seed)\n",
        "        all_rewards.append(rewards)\n",
        "        all_was_bests.append(corrects)\n",
        "    return (np.array(all_rewards), np.array(all_was_bests))"
      ],
      "metadata": {
        "id": "0BatJQFIqec8"
      },
      "execution_count": 5,
      "outputs": []
    },
    {
      "cell_type": "markdown",
      "metadata": {
        "id": "a3KnljnhDP-Y"
      },
      "source": [
        "### Exercise - implement `RandomAgent`\n",
        "\n",
        "```c\n",
        "Difficulty: 🔴🔴⚪⚪⚪\n",
        "Importance: 🔵🔵⚪⚪⚪\n",
        "\n",
        "You should spend up to 10-20 minutes on this exercise.\n",
        "```\n",
        "\n",
        "You should fill in the `get_action` method from `RandomAgent`, which is a subclass of `Agent`. This agent should pick an arm at random, i.e. from the range `[0, ..., num_arms-1]`, and return it as an integer. You won't need to change the `observe` method since the random agent doesn't change its behaviour based on observations, and you won't need to change the `reset` method since there are no observations which need to be reset.\n",
        "\n",
        "This agent will be useful as a baseline to ensure the environment has no bugs. If your later agents are doing worse than random, you have a bug! Later, we'll add some smarter agents.\n",
        "\n",
        "When you've finished implementing this agent, running the cell below will:\n",
        "        \n",
        "- Verify that `RandomAgent` pulls the optimal arm with frequency roughly `1/num_arms`.\n",
        "- Verify that the average reward is very roughly zero. This is the case since the mean reward for each arm is centered on zero.\n",
        "\n",
        "\n"
      ]
    },
    {
      "cell_type": "code",
      "execution_count": 10,
      "metadata": {
        "id": "Pn0TYGHsDP-Y",
        "outputId": "4296cfd9-dfb1-463a-f4ac-62bfa7c42d65",
        "colab": {
          "base_uri": "https://localhost:8080/"
        }
      },
      "outputs": [
        {
          "output_type": "stream",
          "name": "stderr",
          "text": [
            "100%|██████████| 200/200 [00:05<00:00, 37.19it/s]"
          ]
        },
        {
          "output_type": "stream",
          "name": "stdout",
          "text": [
            "Expected correct freq: 0.1, actual: 0.101790\n",
            "Expected average reward: 0.0, actual: 0.005403\n",
            "All tests passed!\n"
          ]
        },
        {
          "output_type": "stream",
          "name": "stderr",
          "text": [
            "\n"
          ]
        }
      ],
      "source": [
        "class RandomAgent(Agent):\n",
        "\n",
        "    def get_action(self) -> ActType:\n",
        "        return self.rng.integers(low = 0, high = num_arms - 1, size = 1).item()\n",
        "\n",
        "    def __repr__(self):\n",
        "        return \"RandomAgent\"\n",
        "\n",
        "\n",
        "num_arms = 10\n",
        "stationary = True\n",
        "env = gym.make(\"ArmedBanditTestbed-v0\", num_arms=num_arms, stationary=stationary)\n",
        "agent = RandomAgent(num_arms, 0)\n",
        "all_rewards, all_corrects = run_agent(env, agent)\n",
        "\n",
        "print(f\"Expected correct freq: {1/10}, actual: {all_corrects.mean():.6f}\")\n",
        "assert np.isclose(all_corrects.mean(), 1/10, atol=0.05), \"Random agent is not random enough!\"\n",
        "\n",
        "print(f\"Expected average reward: 0.0, actual: {all_rewards.mean():.6f}\")\n",
        "assert np.isclose(all_rewards.mean(), 0, atol=0.05), \"Random agent should be getting mean arm reward, which is zero.\"\n",
        "\n",
        "print(\"All tests passed!\")"
      ]
    },
    {
      "cell_type": "markdown",
      "metadata": {
        "id": "9SOTEtsDDP-Z"
      },
      "source": [
        "### Exercise - implement reward averaging\n",
        "\n",
        "```c\n",
        "Difficulty: 🔴🔴🔴⚪⚪\n",
        "Importance: 🔵🔵⚪⚪⚪\n",
        "\n",
        "You should spend up to 20-30 minutes on this exercise.\n",
        "```\n",
        "\n",
        "You should now complete the methods for the `RewardAveraging` agent, which applies the reward averaging algorithm as detailed in Sutton and Barto section 2.4, \"Incremental Implementation\":\n",
        "\n",
        "* You should fill in `observe` to keep track of the number of times $n$ each arm has been pushed, as well as the value $Q_n$ for each arm.\n",
        "    * Gotcha - in S & B notation, $n$ is the number of times this particular arm has been pulled, not the total number of actions taken!\n",
        "    * We recommend defining arrays `N` and `Q`, each of length `num_arms`, to keep track of all these values.\n",
        "* You should fill in `get_action` with an epsilon-greedy method: taking a random action with probability `epsilon`, and taking the best action based on the current value of $Q$ with probability `1-epsilon` (see Sutton & Barto).\n",
        "* You should fill in `reset` to call the reset method from the parent class, *and* make sure that the tracked values of $(n, Q_n)$ are set back to appropriate values at the start of each episode.\n",
        "    * Note, the `reset` method is also called before the very first run, so you don't need to define `N` and `Q` in the init method.\n",
        "    * The `Q` values should be initialized according to the optimism value of this agent.\n",
        "    * Ensure the `Q` values are stored as float (and not numpy's default, integer)\n",
        "\n",
        "<details>\n",
        "<summary>Hint - average reward formula</summary>\n",
        "\n",
        "$$Q_k = Q_{k-1} + \\frac{1}{k}[R_k - Q_{k-1}]$$\n",
        "\n",
        "Where $k$ is the number of times the action has been taken, $R_k$ is the reward from the kth time the action was taken, and $Q_{k-1}$ is the average reward from the previous times this action was taken (this notation departs slightly from the S&B notation, but may be more helpful for our implementation).\n",
        "\n",
        "**Important - $k$ is not the total number of timesteps, it's the total number of times you've taken this particular action.**\n",
        "</details>\n",
        "\n",
        "We've given you a function for plotting multiple agents' reward trajectories on the same graph, with an optional moving average parameter to make the graph smoother.\n"
      ]
    },
    {
      "cell_type": "code",
      "execution_count": 11,
      "metadata": {
        "id": "ygHK3EjKDP-Z",
        "outputId": "448cf2cf-2760-4e6e-ec7e-da804f1b643c",
        "colab": {
          "base_uri": "https://localhost:8080/",
          "height": 685
        }
      },
      "outputs": [
        {
          "output_type": "stream",
          "name": "stderr",
          "text": [
            "100%|██████████| 200/200 [00:03<00:00, 55.41it/s]\n"
          ]
        },
        {
          "output_type": "stream",
          "name": "stdout",
          "text": [
            "RewardAveraging(eps=0.01, optimism=0)\n",
            " -> Frequency of correct arm: 0.5242\n",
            " -> Average reward: 1.2593\n"
          ]
        },
        {
          "output_type": "stream",
          "name": "stderr",
          "text": [
            "100%|██████████| 200/200 [00:02<00:00, 70.67it/s]\n"
          ]
        },
        {
          "output_type": "stream",
          "name": "stdout",
          "text": [
            "RewardAveraging(eps=0.01, optimism=5)\n",
            " -> Frequency of correct arm: 0.5242\n",
            " -> Average reward: 1.2593\n"
          ]
        },
        {
          "output_type": "display_data",
          "data": {
            "text/html": [
              "<html>\n",
              "<head><meta charset=\"utf-8\" /></head>\n",
              "<body>\n",
              "    <div>            <script src=\"https://cdnjs.cloudflare.com/ajax/libs/mathjax/2.7.5/MathJax.js?config=TeX-AMS-MML_SVG\"></script><script type=\"text/javascript\">if (window.MathJax && window.MathJax.Hub && window.MathJax.Hub.Config) {window.MathJax.Hub.Config({SVG: {font: \"STIX-Web\"}});}</script>                <script type=\"text/javascript\">window.PlotlyConfig = {MathJaxConfig: 'local'};</script>\n",
              "        <script charset=\"utf-8\" src=\"https://cdn.plot.ly/plotly-2.35.2.min.js\"></script>                <div id=\"fc719543-6603-4cbc-a187-7623b49ea3a2\" class=\"plotly-graph-div\" style=\"height:525px; width:100%;\"></div>            <script type=\"text/javascript\">                                    window.PLOTLYENV=window.PLOTLYENV || {};                                    if (document.getElementById(\"fc719543-6603-4cbc-a187-7623b49ea3a2\")) {                    Plotly.newPlot(                        \"fc719543-6603-4cbc-a187-7623b49ea3a2\",                        [{\"mode\":\"lines\",\"name\":\"RewardAveraging(eps=0.01, optimism=0)\",\"y\":[0.7063103579304303,0.7828102582126021,0.8169073553374594,0.8548470428754681,0.8972086024447189,0.9407436560782851,0.9703523707201869,0.9913925281217285,0.9996819329139487,1.0135041851292723,1.0100886818151076,1.0239520462253022,1.0228518297664209,1.039419489308842,1.0467547122419107,1.0463744413058502,1.0645215511740829,1.0833048892822694,1.0808019774546826,1.0803573563740798,1.082857358406476,1.0778843781035532,1.0786078244851747,1.0858530530956614,1.0876819203916037,1.1064853878154184,1.1072776677286376,1.1310866376694189,1.1322279108225108,1.130990513219755,1.1455952721123606,1.1327002149452283,1.1279547171684003,1.1425880357080183,1.1540962526131386,1.1461660052585065,1.1508353611148052,1.1585167517093822,1.155204086132924,1.1537355031539984,1.144778847001472,1.1444602317522234,1.1256136413314275,1.130325063081508,1.1380241275066383,1.1281880151688881,1.1361693929366694,1.1413289507563045,1.1288509395404698,1.1206697923016615,1.1258412822525845,1.1333577536542336,1.1287844370056277,1.1454784555618072,1.1606745000773235,1.1607350542966917,1.1657857967516776,1.168461437904791,1.1674191061756916,1.1535334340289993,1.1640819313603055,1.1578661007572522,1.1588152233857045,1.16725147950293,1.1644788749848884,1.1637149654784642,1.1519270189248252,1.1397240353113574,1.125477714915964,1.1139700147199885,1.1173980201040232,1.1245959185664314,1.1274944135137324,1.113562988785828,1.1224017637973835,1.1140125431063932,1.117702824482214,1.1097276729369951,1.1147928674332745,1.1160942218926446,1.1106651867292536,1.1181435674991282,1.1312225811437495,1.1381055748638527,1.1447879716712124,1.1426284873471162,1.1284549273429556,1.1250389264119747,1.1298711206284462,1.1260799660161847,1.1221660312157402,1.1202062389216205,1.1121724216383684,1.1065254358677843,1.1078302816869117,1.1091201558800625,1.108087017409169,1.1050353938076418,1.1048484968470869,1.0960355497851328,1.099310729635902,1.1033669309978953,1.108413671998205,1.1094914851730873,1.1101790804067595,1.1142043723933797,1.1178140248298443,1.131820378154535,1.1321637226965076,1.1387513513643295,1.142149087585265,1.1508967227584075,1.1531291914739001,1.1450912540879878,1.16020652092654,1.1605512762963306,1.1624522963728707,1.1689431878498462,1.1686689297056139,1.1639725181650307,1.168438210009261,1.1770637808309934,1.1732254633962649,1.1818681594716112,1.1786623542947987,1.1933968883256738,1.1931136634260648,1.1944787880092917,1.2000311040591611,1.1956457134272018,1.199844835711061,1.2058754216484942,1.2125956100113493,1.2152158350362716,1.2178347094412914,1.2202914774690479,1.2046899881655142,1.21330876769426,1.2068310317204805,1.2093596640321682,1.2041364668170351,1.1931550155392814,1.1897736289714278,1.1957283888166197,1.1846459896469221,1.1747174852776898,1.1639807063433067,1.1583562411094097,1.1492909161166665,1.1533155204419208,1.1523861385226135,1.1575362555686448,1.1596964769085578,1.161124583497487,1.1611615593331446,1.146128027591927,1.1505086542533358,1.156736259187835,1.1454884801009049,1.152499221077494,1.1608344172014957,1.162581613545181,1.1527255929314928,1.1645403944302,1.1638838537991432,1.1653687839277571,1.1584960963347062,1.1444762636902757,1.1483612173778739,1.1530549262570957,1.1600968249889188,1.1648824443831094,1.1588250241905087,1.1652438213390894,1.1725863918892325,1.158690041222864,1.1593330735288891,1.1706575594722344,1.1656842282484168,1.1760448206516818,1.173562502978956,1.1879037960836798,1.1853261487609643,1.179907514015402,1.1765820058875023,1.1761448130766705,1.1736452431505142,1.1812735457019414,1.185468835473887,1.181807880420526,1.1990039508570496,1.1999561143221438,1.1879253484890417,1.190383205704497,1.1757413759749094,1.1721417064134054,1.15837030093017,1.1606394771094377,1.162346564247025,1.1552178269090898,1.1545969806580823,1.1481143245171324,1.1444115251301261,1.1371491348984155,1.1228342041733925,1.126391849895875,1.131790513029542,1.1415546851605427,1.1434789445836182,1.1555181359984128,1.1631454362090115,1.1708649232659563,1.174824514439039,1.1821480870586243,1.1761349822853921,1.1857306021468617,1.1925686920524963,1.1987826937093569,1.2089402434902354,1.2192552171867457,1.2067388577551639,1.2059095509094713,1.20391612707013,1.212116591586323,1.2087951850353988,1.204852643685056,1.2016018009967733,1.2002282339663206,1.1931878698198166,1.2056077951429283,1.1967910409406461,1.2028022651683916,1.2099231830026118,1.2087677144029727,1.2131952230203487,1.2045447919764343,1.1975899589491255,1.1975118670846578,1.184599932992694,1.1839555620618172,1.1810922232010626,1.192702422626265,1.1949442047354788,1.2003813327274657,1.2025921182381618,1.1996282232269322,1.1958751454020822,1.1937950951999066,1.1858244999883785,1.187385756252445,1.1993913328751318,1.2032416281109326,1.204830486469454,1.2124689643538167,1.216976903786349,1.225349844366455,1.2076675067568354,1.2109632660874126,1.2161197797750978,1.2178666168751306,1.2316051262037717,1.2382361580259234,1.226530756282826,1.2328131823789288,1.2236219876165932,1.2147279324385294,1.2213870353664864,1.2191008273238064,1.220061081847291,1.214806962150044,1.2117139775002783,1.2184661119530233,1.2170470490180985,1.2166563122717169,1.211686412792191,1.2013077117608078,1.1903283885104277,1.1959779654062723,1.1955111617905307,1.2095993500434779,1.2199247959833808,1.2137480708437125,1.2110093074904473,1.2025373085701176,1.193369963566685,1.1892240054429597,1.1968575119608356,1.1983551198637958,1.1921232561104034,1.2005809081990075,1.202759653239688,1.2137109946192293,1.1969851867443708,1.199349994447573,1.1976605304137857,1.194968330482656,1.196471031917929,1.209914533066823,1.2137730219048195,1.2280099316181312,1.2322182819205865,1.2331269793557909,1.2359807058393586,1.230340199825836,1.219108057135285,1.2293555920445176,1.2267640121568548,1.2434925445630294,1.2321406397093861,1.2222489597812418,1.2331373598105946,1.2381148953155996,1.2341831965926076,1.2454089830586743,1.2460670176288393,1.244100611827082,1.2439732004759776,1.244061952098294,1.2510714444923148,1.2578183923530635,1.2463037020954555,1.2550251847678813,1.2489833102904564,1.255363852494967,1.255498935364843,1.2486879113703822,1.2413353394470923,1.239623562723015,1.23592177479444,1.2350430201730886,1.2430576703128546,1.239370877311103,1.2466821143296367,1.241970014544692,1.2370706151469677,1.2473987114139315,1.2421211766704308,1.2540974379266232,1.2565960064861694,1.2576521860288798,1.2609451959519826,1.2605055587088487,1.2602434044586972,1.2666146848778226,1.2605300687203755,1.2516373598160082,1.2490012458745052,1.2434466267483117,1.247199715146121,1.2587301424751862,1.2504986973477117,1.2465768709067107,1.2513294905637584,1.2412712133035142,1.2448070278097285,1.252612781518989,1.2589270337597402,1.2583743144075812,1.2536400923217115,1.2611003306778192,1.2719960592170727,1.273327841744871,1.2701751752760402,1.2659591652291775,1.2554503428803931,1.260628788308164,1.2525750280282257,1.2463268585709328,1.2643447348914947,1.2654860494243507,1.2508514202632606,1.2500722469394836,1.2504328890502279,1.2462143839666624,1.2478224377358742,1.243450852394354,1.236500814383688,1.2396989583648217,1.2423071303404905,1.25041588477089,1.2554894601586208,1.2592590820384506,1.2632348120090113,1.2591751783928393,1.2587988760500934,1.264134077318628,1.2669450420925539,1.271090446688015,1.265947786614303,1.2618424985525545,1.2542068743394188,1.2544254204169192,1.2571336664039223,1.2603062978570543,1.2585002357315906,1.2550643236853414,1.2622471308975833,1.2519308488405385,1.2530581634151114,1.2529998181831692,1.2539988524343888,1.2438826252006303,1.2428936729097737,1.2498382313764107,1.246284579893821,1.255696490412015,1.257721716912556,1.2601704076565738,1.2612782532025184,1.2609009631856907,1.2618878048469848,1.2638691839942453,1.2601891808284449,1.2541137946064813,1.2635689759093451,1.2642345033147877,1.2641303744329775,1.260484033086478,1.2564297823769266,1.2567217224147234,1.2577933764146791,1.262167294969644,1.254508581996231,1.2589036094300847,1.2610427725642466,1.2605171806885664,1.2529819655963441,1.261337546678726,1.2712327383544182,1.2537943628571233,1.2478921658614277,1.2558370912191132,1.2626911841054342,1.2595084252533715,1.263435395462515,1.2669115431280906,1.2633729067730277,1.2644180925699782,1.2674094073001774,1.2610564231854369,1.2596614244684738,1.2649173649010133,1.262865825894869,1.2509747839168692,1.2566411265242474,1.256400867050585,1.2574846917601084,1.2475910695883992,1.257442455038472,1.2579390914010067,1.2497287091465827,1.2622183473530564,1.2605786213118866,1.2438188342955376,1.2494393609947414,1.2533344575038199,1.2527630048450722,1.2569460549734837,1.2643504330545587,1.2722800621837147,1.278567668181942,1.2852945330603083,1.292186515507956,1.2982112403075539,1.2990416364034219,1.3084788648427017,1.3087343536732001,1.3201097811396267,1.33013185305684,1.3232704591407507,1.318287069899255,1.3048847070195735,1.3056326648294543,1.3028645660698734,1.2972206147307057,1.2947614521250443,1.2989303293086398,1.2955209654278936,1.288832516115493,1.2943431003795922,1.2852806905289071,1.2733016145824119,1.268814976366836,1.2694690441685226,1.278721864327114,1.276291025000743,1.2869107992858062,1.277810896274597,1.2800582197382557,1.2849801043524849,1.2981505860217035,1.2897316553537015,1.296110686235996,1.2895499117016167,1.2875830325746014,1.2897668030934484,1.2919174310821897,1.2861308312233557,1.2832350635702066,1.2760825330350447,1.2750338674529607,1.274985249081783,1.2836850416034395,1.2761412215021513,1.2742382553927276,1.2703835495731028,1.2702681981358561,1.2654781005912203,1.2646672854426546,1.2669706298124765,1.2635548631436904,1.2617001528232246,1.263477917514956,1.2681211560617005,1.2742374090266746,1.2719990275050275,1.2763097710309543,1.2711529226667986,1.2831453824266343,1.2846895015405229,1.2797115543255282,1.2787831854118168,1.2829125172195064,1.2956966479100478,1.2975136164287278,1.2967339649419196,1.2945593830390407,1.2993225386308496,1.2979191093673685,1.2977272711214558,1.3176840902630678,1.3094340116722984,1.3117219685426713,1.3046495586654296,1.3006891485813716,1.2996797673416949,1.3039547344102478,1.3041689507419505,1.286072795560714,1.2799088185663399,1.2910188466526809,1.2975745192450328,1.3017545525988983,1.3065637924360165,1.299639539817925,1.2896220300604682,1.291639001771652,1.2809036932901638,1.2847242504968563,1.282398907205258,1.2885767115401223,1.2809064883539425,1.2710602789594228,1.2902760265844715,1.2936499959194483,1.284360164813332,1.2936805927050046,1.295159381459507,1.2883987152757148,1.2826757655749892,1.2854384800229126,1.292157462769948,1.3047067800466645,1.308627802287477,1.3147703199999492,1.306267579319236,1.3032967095028425,1.3096109393807713,1.3061975101651038,1.290011854259933,1.2986497971816713,1.2904011392954164,1.2791585116044948,1.2763110058854106,1.289171936313399,1.2844556039553632,1.2830764612721093,1.2838300761029207,1.273275972927998,1.2763731155613187,1.2793539628186938,1.2811566325472237,1.2824827252520739,1.2779688655216053,1.2960356078234478,1.285701077322551,1.2946540948133665,1.2991730233510983,1.2952579342384525,1.2951140214355898,1.2973609960378705,1.29908797254346,1.300272770929746,1.3065364125667203,1.3026758916081689,1.3006804265049823,1.2965554761805227,1.2962293843683332,1.297810329887625,1.2938237388006428,1.2958941188314232,1.2884390862497639,1.2896331714007754,1.3007104246513868,1.2999419402489443,1.2965932150532657,1.3017406587916336,1.3050006470742574,1.3053911336899318,1.3026707992460085,1.3039672696299551,1.3147898333353396,1.310455557363692,1.3131662698415387,1.3150315855093215,1.3169401266298943,1.3253265509498837,1.3207370408256869,1.3154371347091833,1.3218548220640514,1.3211411951888068,1.3203770462381803,1.311781907997753,1.311146600324355,1.3186674478449807,1.3222122052677379,1.3187650183767574,1.3246497868761709,1.312692187790238,1.3062271807014818,1.3151171491831595,1.3012048774573561,1.3088039636333255,1.3073527279935737,1.306938345173967,1.3151386759764212,1.3089385288750237,1.31027886057747,1.316099886403193,1.3149536124045502,1.3167825677413627,1.317482912270854,1.315916855143079,1.3281941240104742,1.339059429764984,1.3334147015743307,1.3389966116276355,1.3331967595568888,1.3424301037256328,1.3366748352382578,1.3255001951743604,1.328745804276438,1.3353194289713883,1.3288886679758132,1.3196092472181362,1.3180192747631736,1.3271030006954259,1.319631883169465,1.3207155680925098,1.314015016330177,1.3050238389643103,1.3135934362619763,1.3174968226444586,1.321322343604705,1.3221623647209602,1.328981359536988,1.3323094008247003,1.3232419013588015,1.3252070480727676,1.3406678878330467,1.337803592963375,1.3264700800574323,1.3334925588041036,1.329839870449852,1.3420418132408334,1.3391268107427776,1.328690988444161,1.3217623213167522,1.323177045450666,1.3282678457695662,1.324625301215057,1.3309702038663696,1.3394760605631972,1.3486400530149694,1.3411992156065178,1.357230289134865,1.3560496551787613,1.3583453571816335,1.3651867379159968,1.35898347749929,1.377919812774773,1.3810221887435319,1.3765474089697742,1.3705956145827258,1.3576018436650505,1.3624435273766116,1.3434663488291259,1.344755328010865,1.3457552607792498,1.3429836725460669,1.3291515281061492,1.33386993962597,1.3349768829948212,1.3244778029395547,1.323053054905093,1.316698014655617,1.3171996546420663,1.3215809721549856,1.3208447006760404,1.3308924200686383,1.3336172849176895,1.3355959817867717,1.3321464990716323,1.310273992545899,1.3183137777831917,1.3171030472243046,1.3175636798110417,1.3141974363960875,1.3192401111914782,1.3118740944755019,1.3024165356372046,1.3010125166246325,1.3085337586307408,1.3070598594603022,1.2937728802308734,1.2848449908989779,1.286592435031821,1.2928092734498857,1.3074755932413988,1.2966021778097077,1.2924230202283753,1.2887961435757083,1.2932985748955086,1.293423534894138,1.2999935506337428,1.3106953948770448,1.3166609690194795,1.319622432240567,1.3206512296915283,1.3390198143347865,1.348889921375318,1.3584380696937235,1.35588588917686,1.358491728924643,1.3570269130716421,1.360819396863864,1.3660611418891753,1.364065914938366,1.3648676465079688,1.3655972925164406,1.360006701185921,1.357472411919692,1.3494030870551796,1.3476514148674141,1.3467452846839933,1.3441463730566663,1.3444761909276015,1.3440980882921167,1.3414417408184667,1.3502516222029801,1.3543585841880637,1.346524602809518,1.3509304159688327,1.3478258877348253,1.3426161508801746,1.3359903148431689,1.321869912085443,1.3251277624585858,1.3272544092342817,1.322068829199702,1.3208016353673808,1.3129421351937103,1.315384541826999,1.3112197759411401,1.3071366270831504,1.3034692302467723,1.311845781409708,1.3114982270771178,1.3165194948530068,1.320341568925331,1.332071183049637,1.343475190769967,1.3436738128139267,1.3425518386484252,1.3461551936277678,1.3453592135481585,1.3453310256516944,1.3412741211802388,1.348519376503858,1.35687688383476,1.3558727470769099,1.356974959341187,1.3479546054200304,1.336623742032043,1.3372987406064112,1.3390086264448429,1.3435026327698627,1.3467792177114764,1.3457440036965485,1.350760008226962,1.3456263137767186,1.3547896915513093,1.3635455165114232,1.3681311213285048,1.368447280891837,1.37521547757104,1.3794425958854692,1.3859133853600951,1.3984663250529366,1.4026982611821193,1.4009957229699694,1.3996727749030546,1.4026665412572734,1.4138557687190996,1.3994722835442037,1.4076213043561665,1.4076219151517686,1.3980594050714974,1.3900733297776544,1.3811371815383457,1.3718641395272395,1.3738660046443782,1.3728424120575256,1.3780830924122105,1.3727231301029406,1.3792465497286381,1.3808333432703421,1.3764336558780088,1.3653342292518877,1.371460194849366,1.370332395812026,1.3662816242474036,1.3691610883359167,1.3717890734763993,1.381361922232251,1.386854888509788,1.3818795501037433,1.3808494592015752,1.3730983252197195,1.3640399622355137,1.35271740802926,1.356571018179117,1.3622456406360621,1.3583008990541656,1.3655903152849078,1.3605269881414643,1.3594875324861428,1.3551285402239348,1.3574857872669175,1.3495975293250315,1.3514469270521203,1.3550069712909287,1.3663175260250682,1.3644863536049494,1.3658866641607195,1.3640693056947535,1.3581425075942812,1.3475314714272373,1.3507554336993508,1.345758766523204,1.3497240426758557,1.3481338420497044,1.3475475703167983,1.342729652401431,1.348709558406502,1.3518534178861956,1.3394024400497528,1.3296493002175338,1.3192173055942324,1.33787220256404,1.35380375976074,1.347857917444723,1.3468719841432024,1.3395583987131885,1.3415711378809798,1.3434991157044502,1.3455353246251585,1.3492156846987957,1.3614901002623356,1.354974534352732,1.3556669432479187,1.355064416401865,1.3567806209838484,1.3615552150681651,1.3560109512953507,1.341385081279562,1.36000782870683,1.3619765020794905,1.3762363944780192,1.3703712437663549,1.3702347171177431,1.3730231980953098,1.3763799014068505,1.3671656915627712,1.359830168308766,1.352819112547498,1.3548305191394168,1.349899826404438,1.355460679577815,1.3435889505166567,1.3522312695932517,1.3332984896277897,1.345730300066892,1.3437977971935955,1.34134622461908,1.3456542861101448,1.344266058790466,1.3402036835251692,1.3385971149064517,1.3456245608220192,1.342934404501663,1.3453806373238573,1.3520526134172086,1.3571190978114223,1.371679505307217,1.3631391283015546,1.3649200767013554,1.3559827677398364,1.356769044444718,1.3662306480365562,1.3585768710635573,1.3588596842020404,1.345932388711708,1.3371281982537615,1.3425744867411746,1.3443894992804266,1.3491808378835382,1.3467886022448965,1.3418007457321133,1.3343240387567523,1.3419709176213321,1.3453148376005477,1.3563345697727527,1.349154441983516,1.348640814894073,1.3468561486052446,1.3458150517999152,1.3621665224600747,1.372756583887455,1.367658103368952,1.3680665697881522,1.3723768516904178,1.3751140293446193,1.3745438895999995,1.3839413173622082,1.3793543550331833,1.3764984702689465,1.3630420835514239,1.3706059316057841,1.3679603584021456,1.3662981620270178,1.3606495507696612,1.3611359194126786,1.3589480460123164,1.3644610016148817,1.365737015253535,1.36969152467121,1.3653719119541015,1.3655646815738842,1.3574014044902014,1.3544961554136383,1.352356655231703,1.3517409350723029,1.3484884496663654,1.3462420535085735,1.3474335012567735,1.3531962956944577,1.350161777086305,1.3493152333607972,1.352164865766402,1.3549571176405304,1.3479303689602147,1.3542610556070789,1.3566612454021802,1.3463882587653038,1.352050544677892,1.3507517480792104,1.3581425360177188,1.362441844517616,1.3630509436001073,1.3710997476789393,1.3563591801362842,1.351227864308036,1.3608812283432294,1.3506579649975115,1.3454287909790612],\"type\":\"scatter\"},{\"mode\":\"lines\",\"name\":\"RewardAveraging(eps=0.01, optimism=5)\",\"y\":[0.7063103579304303,0.7828102582126021,0.8169073553374594,0.8548470428754681,0.8972086024447189,0.9407436560782851,0.9703523707201869,0.9913925281217285,0.9996819329139487,1.0135041851292723,1.0100886818151076,1.0239520462253022,1.0228518297664209,1.039419489308842,1.0467547122419107,1.0463744413058502,1.0645215511740829,1.0833048892822694,1.0808019774546826,1.0803573563740798,1.082857358406476,1.0778843781035532,1.0786078244851747,1.0858530530956614,1.0876819203916037,1.1064853878154184,1.1072776677286376,1.1310866376694189,1.1322279108225108,1.130990513219755,1.1455952721123606,1.1327002149452283,1.1279547171684003,1.1425880357080183,1.1540962526131386,1.1461660052585065,1.1508353611148052,1.1585167517093822,1.155204086132924,1.1537355031539984,1.144778847001472,1.1444602317522234,1.1256136413314275,1.130325063081508,1.1380241275066383,1.1281880151688881,1.1361693929366694,1.1413289507563045,1.1288509395404698,1.1206697923016615,1.1258412822525845,1.1333577536542336,1.1287844370056277,1.1454784555618072,1.1606745000773235,1.1607350542966917,1.1657857967516776,1.168461437904791,1.1674191061756916,1.1535334340289993,1.1640819313603055,1.1578661007572522,1.1588152233857045,1.16725147950293,1.1644788749848884,1.1637149654784642,1.1519270189248252,1.1397240353113574,1.125477714915964,1.1139700147199885,1.1173980201040232,1.1245959185664314,1.1274944135137324,1.113562988785828,1.1224017637973835,1.1140125431063932,1.117702824482214,1.1097276729369951,1.1147928674332745,1.1160942218926446,1.1106651867292536,1.1181435674991282,1.1312225811437495,1.1381055748638527,1.1447879716712124,1.1426284873471162,1.1284549273429556,1.1250389264119747,1.1298711206284462,1.1260799660161847,1.1221660312157402,1.1202062389216205,1.1121724216383684,1.1065254358677843,1.1078302816869117,1.1091201558800625,1.108087017409169,1.1050353938076418,1.1048484968470869,1.0960355497851328,1.099310729635902,1.1033669309978953,1.108413671998205,1.1094914851730873,1.1101790804067595,1.1142043723933797,1.1178140248298443,1.131820378154535,1.1321637226965076,1.1387513513643295,1.142149087585265,1.1508967227584075,1.1531291914739001,1.1450912540879878,1.16020652092654,1.1605512762963306,1.1624522963728707,1.1689431878498462,1.1686689297056139,1.1639725181650307,1.168438210009261,1.1770637808309934,1.1732254633962649,1.1818681594716112,1.1786623542947987,1.1933968883256738,1.1931136634260648,1.1944787880092917,1.2000311040591611,1.1956457134272018,1.199844835711061,1.2058754216484942,1.2125956100113493,1.2152158350362716,1.2178347094412914,1.2202914774690479,1.2046899881655142,1.21330876769426,1.2068310317204805,1.2093596640321682,1.2041364668170351,1.1931550155392814,1.1897736289714278,1.1957283888166197,1.1846459896469221,1.1747174852776898,1.1639807063433067,1.1583562411094097,1.1492909161166665,1.1533155204419208,1.1523861385226135,1.1575362555686448,1.1596964769085578,1.161124583497487,1.1611615593331446,1.146128027591927,1.1505086542533358,1.156736259187835,1.1454884801009049,1.152499221077494,1.1608344172014957,1.162581613545181,1.1527255929314928,1.1645403944302,1.1638838537991432,1.1653687839277571,1.1584960963347062,1.1444762636902757,1.1483612173778739,1.1530549262570957,1.1600968249889188,1.1648824443831094,1.1588250241905087,1.1652438213390894,1.1725863918892325,1.158690041222864,1.1593330735288891,1.1706575594722344,1.1656842282484168,1.1760448206516818,1.173562502978956,1.1879037960836798,1.1853261487609643,1.179907514015402,1.1765820058875023,1.1761448130766705,1.1736452431505142,1.1812735457019414,1.185468835473887,1.181807880420526,1.1990039508570496,1.1999561143221438,1.1879253484890417,1.190383205704497,1.1757413759749094,1.1721417064134054,1.15837030093017,1.1606394771094377,1.162346564247025,1.1552178269090898,1.1545969806580823,1.1481143245171324,1.1444115251301261,1.1371491348984155,1.1228342041733925,1.126391849895875,1.131790513029542,1.1415546851605427,1.1434789445836182,1.1555181359984128,1.1631454362090115,1.1708649232659563,1.174824514439039,1.1821480870586243,1.1761349822853921,1.1857306021468617,1.1925686920524963,1.1987826937093569,1.2089402434902354,1.2192552171867457,1.2067388577551639,1.2059095509094713,1.20391612707013,1.212116591586323,1.2087951850353988,1.204852643685056,1.2016018009967733,1.2002282339663206,1.1931878698198166,1.2056077951429283,1.1967910409406461,1.2028022651683916,1.2099231830026118,1.2087677144029727,1.2131952230203487,1.2045447919764343,1.1975899589491255,1.1975118670846578,1.184599932992694,1.1839555620618172,1.1810922232010626,1.192702422626265,1.1949442047354788,1.2003813327274657,1.2025921182381618,1.1996282232269322,1.1958751454020822,1.1937950951999066,1.1858244999883785,1.187385756252445,1.1993913328751318,1.2032416281109326,1.204830486469454,1.2124689643538167,1.216976903786349,1.225349844366455,1.2076675067568354,1.2109632660874126,1.2161197797750978,1.2178666168751306,1.2316051262037717,1.2382361580259234,1.226530756282826,1.2328131823789288,1.2236219876165932,1.2147279324385294,1.2213870353664864,1.2191008273238064,1.220061081847291,1.214806962150044,1.2117139775002783,1.2184661119530233,1.2170470490180985,1.2166563122717169,1.211686412792191,1.2013077117608078,1.1903283885104277,1.1959779654062723,1.1955111617905307,1.2095993500434779,1.2199247959833808,1.2137480708437125,1.2110093074904473,1.2025373085701176,1.193369963566685,1.1892240054429597,1.1968575119608356,1.1983551198637958,1.1921232561104034,1.2005809081990075,1.202759653239688,1.2137109946192293,1.1969851867443708,1.199349994447573,1.1976605304137857,1.194968330482656,1.196471031917929,1.209914533066823,1.2137730219048195,1.2280099316181312,1.2322182819205865,1.2331269793557909,1.2359807058393586,1.230340199825836,1.219108057135285,1.2293555920445176,1.2267640121568548,1.2434925445630294,1.2321406397093861,1.2222489597812418,1.2331373598105946,1.2381148953155996,1.2341831965926076,1.2454089830586743,1.2460670176288393,1.244100611827082,1.2439732004759776,1.244061952098294,1.2510714444923148,1.2578183923530635,1.2463037020954555,1.2550251847678813,1.2489833102904564,1.255363852494967,1.255498935364843,1.2486879113703822,1.2413353394470923,1.239623562723015,1.23592177479444,1.2350430201730886,1.2430576703128546,1.239370877311103,1.2466821143296367,1.241970014544692,1.2370706151469677,1.2473987114139315,1.2421211766704308,1.2540974379266232,1.2565960064861694,1.2576521860288798,1.2609451959519826,1.2605055587088487,1.2602434044586972,1.2666146848778226,1.2605300687203755,1.2516373598160082,1.2490012458745052,1.2434466267483117,1.247199715146121,1.2587301424751862,1.2504986973477117,1.2465768709067107,1.2513294905637584,1.2412712133035142,1.2448070278097285,1.252612781518989,1.2589270337597402,1.2583743144075812,1.2536400923217115,1.2611003306778192,1.2719960592170727,1.273327841744871,1.2701751752760402,1.2659591652291775,1.2554503428803931,1.260628788308164,1.2525750280282257,1.2463268585709328,1.2643447348914947,1.2654860494243507,1.2508514202632606,1.2500722469394836,1.2504328890502279,1.2462143839666624,1.2478224377358742,1.243450852394354,1.236500814383688,1.2396989583648217,1.2423071303404905,1.25041588477089,1.2554894601586208,1.2592590820384506,1.2632348120090113,1.2591751783928393,1.2587988760500934,1.264134077318628,1.2669450420925539,1.271090446688015,1.265947786614303,1.2618424985525545,1.2542068743394188,1.2544254204169192,1.2571336664039223,1.2603062978570543,1.2585002357315906,1.2550643236853414,1.2622471308975833,1.2519308488405385,1.2530581634151114,1.2529998181831692,1.2539988524343888,1.2438826252006303,1.2428936729097737,1.2498382313764107,1.246284579893821,1.255696490412015,1.257721716912556,1.2601704076565738,1.2612782532025184,1.2609009631856907,1.2618878048469848,1.2638691839942453,1.2601891808284449,1.2541137946064813,1.2635689759093451,1.2642345033147877,1.2641303744329775,1.260484033086478,1.2564297823769266,1.2567217224147234,1.2577933764146791,1.262167294969644,1.254508581996231,1.2589036094300847,1.2610427725642466,1.2605171806885664,1.2529819655963441,1.261337546678726,1.2712327383544182,1.2537943628571233,1.2478921658614277,1.2558370912191132,1.2626911841054342,1.2595084252533715,1.263435395462515,1.2669115431280906,1.2633729067730277,1.2644180925699782,1.2674094073001774,1.2610564231854369,1.2596614244684738,1.2649173649010133,1.262865825894869,1.2509747839168692,1.2566411265242474,1.256400867050585,1.2574846917601084,1.2475910695883992,1.257442455038472,1.2579390914010067,1.2497287091465827,1.2622183473530564,1.2605786213118866,1.2438188342955376,1.2494393609947414,1.2533344575038199,1.2527630048450722,1.2569460549734837,1.2643504330545587,1.2722800621837147,1.278567668181942,1.2852945330603083,1.292186515507956,1.2982112403075539,1.2990416364034219,1.3084788648427017,1.3087343536732001,1.3201097811396267,1.33013185305684,1.3232704591407507,1.318287069899255,1.3048847070195735,1.3056326648294543,1.3028645660698734,1.2972206147307057,1.2947614521250443,1.2989303293086398,1.2955209654278936,1.288832516115493,1.2943431003795922,1.2852806905289071,1.2733016145824119,1.268814976366836,1.2694690441685226,1.278721864327114,1.276291025000743,1.2869107992858062,1.277810896274597,1.2800582197382557,1.2849801043524849,1.2981505860217035,1.2897316553537015,1.296110686235996,1.2895499117016167,1.2875830325746014,1.2897668030934484,1.2919174310821897,1.2861308312233557,1.2832350635702066,1.2760825330350447,1.2750338674529607,1.274985249081783,1.2836850416034395,1.2761412215021513,1.2742382553927276,1.2703835495731028,1.2702681981358561,1.2654781005912203,1.2646672854426546,1.2669706298124765,1.2635548631436904,1.2617001528232246,1.263477917514956,1.2681211560617005,1.2742374090266746,1.2719990275050275,1.2763097710309543,1.2711529226667986,1.2831453824266343,1.2846895015405229,1.2797115543255282,1.2787831854118168,1.2829125172195064,1.2956966479100478,1.2975136164287278,1.2967339649419196,1.2945593830390407,1.2993225386308496,1.2979191093673685,1.2977272711214558,1.3176840902630678,1.3094340116722984,1.3117219685426713,1.3046495586654296,1.3006891485813716,1.2996797673416949,1.3039547344102478,1.3041689507419505,1.286072795560714,1.2799088185663399,1.2910188466526809,1.2975745192450328,1.3017545525988983,1.3065637924360165,1.299639539817925,1.2896220300604682,1.291639001771652,1.2809036932901638,1.2847242504968563,1.282398907205258,1.2885767115401223,1.2809064883539425,1.2710602789594228,1.2902760265844715,1.2936499959194483,1.284360164813332,1.2936805927050046,1.295159381459507,1.2883987152757148,1.2826757655749892,1.2854384800229126,1.292157462769948,1.3047067800466645,1.308627802287477,1.3147703199999492,1.306267579319236,1.3032967095028425,1.3096109393807713,1.3061975101651038,1.290011854259933,1.2986497971816713,1.2904011392954164,1.2791585116044948,1.2763110058854106,1.289171936313399,1.2844556039553632,1.2830764612721093,1.2838300761029207,1.273275972927998,1.2763731155613187,1.2793539628186938,1.2811566325472237,1.2824827252520739,1.2779688655216053,1.2960356078234478,1.285701077322551,1.2946540948133665,1.2991730233510983,1.2952579342384525,1.2951140214355898,1.2973609960378705,1.29908797254346,1.300272770929746,1.3065364125667203,1.3026758916081689,1.3006804265049823,1.2965554761805227,1.2962293843683332,1.297810329887625,1.2938237388006428,1.2958941188314232,1.2884390862497639,1.2896331714007754,1.3007104246513868,1.2999419402489443,1.2965932150532657,1.3017406587916336,1.3050006470742574,1.3053911336899318,1.3026707992460085,1.3039672696299551,1.3147898333353396,1.310455557363692,1.3131662698415387,1.3150315855093215,1.3169401266298943,1.3253265509498837,1.3207370408256869,1.3154371347091833,1.3218548220640514,1.3211411951888068,1.3203770462381803,1.311781907997753,1.311146600324355,1.3186674478449807,1.3222122052677379,1.3187650183767574,1.3246497868761709,1.312692187790238,1.3062271807014818,1.3151171491831595,1.3012048774573561,1.3088039636333255,1.3073527279935737,1.306938345173967,1.3151386759764212,1.3089385288750237,1.31027886057747,1.316099886403193,1.3149536124045502,1.3167825677413627,1.317482912270854,1.315916855143079,1.3281941240104742,1.339059429764984,1.3334147015743307,1.3389966116276355,1.3331967595568888,1.3424301037256328,1.3366748352382578,1.3255001951743604,1.328745804276438,1.3353194289713883,1.3288886679758132,1.3196092472181362,1.3180192747631736,1.3271030006954259,1.319631883169465,1.3207155680925098,1.314015016330177,1.3050238389643103,1.3135934362619763,1.3174968226444586,1.321322343604705,1.3221623647209602,1.328981359536988,1.3323094008247003,1.3232419013588015,1.3252070480727676,1.3406678878330467,1.337803592963375,1.3264700800574323,1.3334925588041036,1.329839870449852,1.3420418132408334,1.3391268107427776,1.328690988444161,1.3217623213167522,1.323177045450666,1.3282678457695662,1.324625301215057,1.3309702038663696,1.3394760605631972,1.3486400530149694,1.3411992156065178,1.357230289134865,1.3560496551787613,1.3583453571816335,1.3651867379159968,1.35898347749929,1.377919812774773,1.3810221887435319,1.3765474089697742,1.3705956145827258,1.3576018436650505,1.3624435273766116,1.3434663488291259,1.344755328010865,1.3457552607792498,1.3429836725460669,1.3291515281061492,1.33386993962597,1.3349768829948212,1.3244778029395547,1.323053054905093,1.316698014655617,1.3171996546420663,1.3215809721549856,1.3208447006760404,1.3308924200686383,1.3336172849176895,1.3355959817867717,1.3321464990716323,1.310273992545899,1.3183137777831917,1.3171030472243046,1.3175636798110417,1.3141974363960875,1.3192401111914782,1.3118740944755019,1.3024165356372046,1.3010125166246325,1.3085337586307408,1.3070598594603022,1.2937728802308734,1.2848449908989779,1.286592435031821,1.2928092734498857,1.3074755932413988,1.2966021778097077,1.2924230202283753,1.2887961435757083,1.2932985748955086,1.293423534894138,1.2999935506337428,1.3106953948770448,1.3166609690194795,1.319622432240567,1.3206512296915283,1.3390198143347865,1.348889921375318,1.3584380696937235,1.35588588917686,1.358491728924643,1.3570269130716421,1.360819396863864,1.3660611418891753,1.364065914938366,1.3648676465079688,1.3655972925164406,1.360006701185921,1.357472411919692,1.3494030870551796,1.3476514148674141,1.3467452846839933,1.3441463730566663,1.3444761909276015,1.3440980882921167,1.3414417408184667,1.3502516222029801,1.3543585841880637,1.346524602809518,1.3509304159688327,1.3478258877348253,1.3426161508801746,1.3359903148431689,1.321869912085443,1.3251277624585858,1.3272544092342817,1.322068829199702,1.3208016353673808,1.3129421351937103,1.315384541826999,1.3112197759411401,1.3071366270831504,1.3034692302467723,1.311845781409708,1.3114982270771178,1.3165194948530068,1.320341568925331,1.332071183049637,1.343475190769967,1.3436738128139267,1.3425518386484252,1.3461551936277678,1.3453592135481585,1.3453310256516944,1.3412741211802388,1.348519376503858,1.35687688383476,1.3558727470769099,1.356974959341187,1.3479546054200304,1.336623742032043,1.3372987406064112,1.3390086264448429,1.3435026327698627,1.3467792177114764,1.3457440036965485,1.350760008226962,1.3456263137767186,1.3547896915513093,1.3635455165114232,1.3681311213285048,1.368447280891837,1.37521547757104,1.3794425958854692,1.3859133853600951,1.3984663250529366,1.4026982611821193,1.4009957229699694,1.3996727749030546,1.4026665412572734,1.4138557687190996,1.3994722835442037,1.4076213043561665,1.4076219151517686,1.3980594050714974,1.3900733297776544,1.3811371815383457,1.3718641395272395,1.3738660046443782,1.3728424120575256,1.3780830924122105,1.3727231301029406,1.3792465497286381,1.3808333432703421,1.3764336558780088,1.3653342292518877,1.371460194849366,1.370332395812026,1.3662816242474036,1.3691610883359167,1.3717890734763993,1.381361922232251,1.386854888509788,1.3818795501037433,1.3808494592015752,1.3730983252197195,1.3640399622355137,1.35271740802926,1.356571018179117,1.3622456406360621,1.3583008990541656,1.3655903152849078,1.3605269881414643,1.3594875324861428,1.3551285402239348,1.3574857872669175,1.3495975293250315,1.3514469270521203,1.3550069712909287,1.3663175260250682,1.3644863536049494,1.3658866641607195,1.3640693056947535,1.3581425075942812,1.3475314714272373,1.3507554336993508,1.345758766523204,1.3497240426758557,1.3481338420497044,1.3475475703167983,1.342729652401431,1.348709558406502,1.3518534178861956,1.3394024400497528,1.3296493002175338,1.3192173055942324,1.33787220256404,1.35380375976074,1.347857917444723,1.3468719841432024,1.3395583987131885,1.3415711378809798,1.3434991157044502,1.3455353246251585,1.3492156846987957,1.3614901002623356,1.354974534352732,1.3556669432479187,1.355064416401865,1.3567806209838484,1.3615552150681651,1.3560109512953507,1.341385081279562,1.36000782870683,1.3619765020794905,1.3762363944780192,1.3703712437663549,1.3702347171177431,1.3730231980953098,1.3763799014068505,1.3671656915627712,1.359830168308766,1.352819112547498,1.3548305191394168,1.349899826404438,1.355460679577815,1.3435889505166567,1.3522312695932517,1.3332984896277897,1.345730300066892,1.3437977971935955,1.34134622461908,1.3456542861101448,1.344266058790466,1.3402036835251692,1.3385971149064517,1.3456245608220192,1.342934404501663,1.3453806373238573,1.3520526134172086,1.3571190978114223,1.371679505307217,1.3631391283015546,1.3649200767013554,1.3559827677398364,1.356769044444718,1.3662306480365562,1.3585768710635573,1.3588596842020404,1.345932388711708,1.3371281982537615,1.3425744867411746,1.3443894992804266,1.3491808378835382,1.3467886022448965,1.3418007457321133,1.3343240387567523,1.3419709176213321,1.3453148376005477,1.3563345697727527,1.349154441983516,1.348640814894073,1.3468561486052446,1.3458150517999152,1.3621665224600747,1.372756583887455,1.367658103368952,1.3680665697881522,1.3723768516904178,1.3751140293446193,1.3745438895999995,1.3839413173622082,1.3793543550331833,1.3764984702689465,1.3630420835514239,1.3706059316057841,1.3679603584021456,1.3662981620270178,1.3606495507696612,1.3611359194126786,1.3589480460123164,1.3644610016148817,1.365737015253535,1.36969152467121,1.3653719119541015,1.3655646815738842,1.3574014044902014,1.3544961554136383,1.352356655231703,1.3517409350723029,1.3484884496663654,1.3462420535085735,1.3474335012567735,1.3531962956944577,1.350161777086305,1.3493152333607972,1.352164865766402,1.3549571176405304,1.3479303689602147,1.3542610556070789,1.3566612454021802,1.3463882587653038,1.352050544677892,1.3507517480792104,1.3581425360177188,1.362441844517616,1.3630509436001073,1.3710997476789393,1.3563591801362842,1.351227864308036,1.3608812283432294,1.3506579649975115,1.3454287909790612],\"type\":\"scatter\"}],                        {\"template\":{\"data\":{\"barpolar\":[{\"marker\":{\"line\":{\"color\":\"white\",\"width\":0.5},\"pattern\":{\"fillmode\":\"overlay\",\"size\":10,\"solidity\":0.2}},\"type\":\"barpolar\"}],\"bar\":[{\"error_x\":{\"color\":\"rgb(36,36,36)\"},\"error_y\":{\"color\":\"rgb(36,36,36)\"},\"marker\":{\"line\":{\"color\":\"white\",\"width\":0.5},\"pattern\":{\"fillmode\":\"overlay\",\"size\":10,\"solidity\":0.2}},\"type\":\"bar\"}],\"carpet\":[{\"aaxis\":{\"endlinecolor\":\"rgb(36,36,36)\",\"gridcolor\":\"white\",\"linecolor\":\"white\",\"minorgridcolor\":\"white\",\"startlinecolor\":\"rgb(36,36,36)\"},\"baxis\":{\"endlinecolor\":\"rgb(36,36,36)\",\"gridcolor\":\"white\",\"linecolor\":\"white\",\"minorgridcolor\":\"white\",\"startlinecolor\":\"rgb(36,36,36)\"},\"type\":\"carpet\"}],\"choropleth\":[{\"colorbar\":{\"outlinewidth\":1,\"tickcolor\":\"rgb(36,36,36)\",\"ticks\":\"outside\"},\"type\":\"choropleth\"}],\"contourcarpet\":[{\"colorbar\":{\"outlinewidth\":1,\"tickcolor\":\"rgb(36,36,36)\",\"ticks\":\"outside\"},\"type\":\"contourcarpet\"}],\"contour\":[{\"colorbar\":{\"outlinewidth\":1,\"tickcolor\":\"rgb(36,36,36)\",\"ticks\":\"outside\"},\"colorscale\":[[0.0,\"#440154\"],[0.1111111111111111,\"#482878\"],[0.2222222222222222,\"#3e4989\"],[0.3333333333333333,\"#31688e\"],[0.4444444444444444,\"#26828e\"],[0.5555555555555556,\"#1f9e89\"],[0.6666666666666666,\"#35b779\"],[0.7777777777777778,\"#6ece58\"],[0.8888888888888888,\"#b5de2b\"],[1.0,\"#fde725\"]],\"type\":\"contour\"}],\"heatmapgl\":[{\"colorbar\":{\"outlinewidth\":1,\"tickcolor\":\"rgb(36,36,36)\",\"ticks\":\"outside\"},\"colorscale\":[[0.0,\"#440154\"],[0.1111111111111111,\"#482878\"],[0.2222222222222222,\"#3e4989\"],[0.3333333333333333,\"#31688e\"],[0.4444444444444444,\"#26828e\"],[0.5555555555555556,\"#1f9e89\"],[0.6666666666666666,\"#35b779\"],[0.7777777777777778,\"#6ece58\"],[0.8888888888888888,\"#b5de2b\"],[1.0,\"#fde725\"]],\"type\":\"heatmapgl\"}],\"heatmap\":[{\"colorbar\":{\"outlinewidth\":1,\"tickcolor\":\"rgb(36,36,36)\",\"ticks\":\"outside\"},\"colorscale\":[[0.0,\"#440154\"],[0.1111111111111111,\"#482878\"],[0.2222222222222222,\"#3e4989\"],[0.3333333333333333,\"#31688e\"],[0.4444444444444444,\"#26828e\"],[0.5555555555555556,\"#1f9e89\"],[0.6666666666666666,\"#35b779\"],[0.7777777777777778,\"#6ece58\"],[0.8888888888888888,\"#b5de2b\"],[1.0,\"#fde725\"]],\"type\":\"heatmap\"}],\"histogram2dcontour\":[{\"colorbar\":{\"outlinewidth\":1,\"tickcolor\":\"rgb(36,36,36)\",\"ticks\":\"outside\"},\"colorscale\":[[0.0,\"#440154\"],[0.1111111111111111,\"#482878\"],[0.2222222222222222,\"#3e4989\"],[0.3333333333333333,\"#31688e\"],[0.4444444444444444,\"#26828e\"],[0.5555555555555556,\"#1f9e89\"],[0.6666666666666666,\"#35b779\"],[0.7777777777777778,\"#6ece58\"],[0.8888888888888888,\"#b5de2b\"],[1.0,\"#fde725\"]],\"type\":\"histogram2dcontour\"}],\"histogram2d\":[{\"colorbar\":{\"outlinewidth\":1,\"tickcolor\":\"rgb(36,36,36)\",\"ticks\":\"outside\"},\"colorscale\":[[0.0,\"#440154\"],[0.1111111111111111,\"#482878\"],[0.2222222222222222,\"#3e4989\"],[0.3333333333333333,\"#31688e\"],[0.4444444444444444,\"#26828e\"],[0.5555555555555556,\"#1f9e89\"],[0.6666666666666666,\"#35b779\"],[0.7777777777777778,\"#6ece58\"],[0.8888888888888888,\"#b5de2b\"],[1.0,\"#fde725\"]],\"type\":\"histogram2d\"}],\"histogram\":[{\"marker\":{\"line\":{\"color\":\"white\",\"width\":0.6}},\"type\":\"histogram\"}],\"mesh3d\":[{\"colorbar\":{\"outlinewidth\":1,\"tickcolor\":\"rgb(36,36,36)\",\"ticks\":\"outside\"},\"type\":\"mesh3d\"}],\"parcoords\":[{\"line\":{\"colorbar\":{\"outlinewidth\":1,\"tickcolor\":\"rgb(36,36,36)\",\"ticks\":\"outside\"}},\"type\":\"parcoords\"}],\"pie\":[{\"automargin\":true,\"type\":\"pie\"}],\"scatter3d\":[{\"line\":{\"colorbar\":{\"outlinewidth\":1,\"tickcolor\":\"rgb(36,36,36)\",\"ticks\":\"outside\"}},\"marker\":{\"colorbar\":{\"outlinewidth\":1,\"tickcolor\":\"rgb(36,36,36)\",\"ticks\":\"outside\"}},\"type\":\"scatter3d\"}],\"scattercarpet\":[{\"marker\":{\"colorbar\":{\"outlinewidth\":1,\"tickcolor\":\"rgb(36,36,36)\",\"ticks\":\"outside\"}},\"type\":\"scattercarpet\"}],\"scattergeo\":[{\"marker\":{\"colorbar\":{\"outlinewidth\":1,\"tickcolor\":\"rgb(36,36,36)\",\"ticks\":\"outside\"}},\"type\":\"scattergeo\"}],\"scattergl\":[{\"marker\":{\"colorbar\":{\"outlinewidth\":1,\"tickcolor\":\"rgb(36,36,36)\",\"ticks\":\"outside\"}},\"type\":\"scattergl\"}],\"scattermapbox\":[{\"marker\":{\"colorbar\":{\"outlinewidth\":1,\"tickcolor\":\"rgb(36,36,36)\",\"ticks\":\"outside\"}},\"type\":\"scattermapbox\"}],\"scatterpolargl\":[{\"marker\":{\"colorbar\":{\"outlinewidth\":1,\"tickcolor\":\"rgb(36,36,36)\",\"ticks\":\"outside\"}},\"type\":\"scatterpolargl\"}],\"scatterpolar\":[{\"marker\":{\"colorbar\":{\"outlinewidth\":1,\"tickcolor\":\"rgb(36,36,36)\",\"ticks\":\"outside\"}},\"type\":\"scatterpolar\"}],\"scatter\":[{\"fillpattern\":{\"fillmode\":\"overlay\",\"size\":10,\"solidity\":0.2},\"type\":\"scatter\"}],\"scatterternary\":[{\"marker\":{\"colorbar\":{\"outlinewidth\":1,\"tickcolor\":\"rgb(36,36,36)\",\"ticks\":\"outside\"}},\"type\":\"scatterternary\"}],\"surface\":[{\"colorbar\":{\"outlinewidth\":1,\"tickcolor\":\"rgb(36,36,36)\",\"ticks\":\"outside\"},\"colorscale\":[[0.0,\"#440154\"],[0.1111111111111111,\"#482878\"],[0.2222222222222222,\"#3e4989\"],[0.3333333333333333,\"#31688e\"],[0.4444444444444444,\"#26828e\"],[0.5555555555555556,\"#1f9e89\"],[0.6666666666666666,\"#35b779\"],[0.7777777777777778,\"#6ece58\"],[0.8888888888888888,\"#b5de2b\"],[1.0,\"#fde725\"]],\"type\":\"surface\"}],\"table\":[{\"cells\":{\"fill\":{\"color\":\"rgb(237,237,237)\"},\"line\":{\"color\":\"white\"}},\"header\":{\"fill\":{\"color\":\"rgb(217,217,217)\"},\"line\":{\"color\":\"white\"}},\"type\":\"table\"}]},\"layout\":{\"annotationdefaults\":{\"arrowhead\":0,\"arrowwidth\":1},\"autotypenumbers\":\"strict\",\"coloraxis\":{\"colorbar\":{\"outlinewidth\":1,\"tickcolor\":\"rgb(36,36,36)\",\"ticks\":\"outside\"}},\"colorscale\":{\"diverging\":[[0.0,\"rgb(103,0,31)\"],[0.1,\"rgb(178,24,43)\"],[0.2,\"rgb(214,96,77)\"],[0.3,\"rgb(244,165,130)\"],[0.4,\"rgb(253,219,199)\"],[0.5,\"rgb(247,247,247)\"],[0.6,\"rgb(209,229,240)\"],[0.7,\"rgb(146,197,222)\"],[0.8,\"rgb(67,147,195)\"],[0.9,\"rgb(33,102,172)\"],[1.0,\"rgb(5,48,97)\"]],\"sequential\":[[0.0,\"#440154\"],[0.1111111111111111,\"#482878\"],[0.2222222222222222,\"#3e4989\"],[0.3333333333333333,\"#31688e\"],[0.4444444444444444,\"#26828e\"],[0.5555555555555556,\"#1f9e89\"],[0.6666666666666666,\"#35b779\"],[0.7777777777777778,\"#6ece58\"],[0.8888888888888888,\"#b5de2b\"],[1.0,\"#fde725\"]],\"sequentialminus\":[[0.0,\"#440154\"],[0.1111111111111111,\"#482878\"],[0.2222222222222222,\"#3e4989\"],[0.3333333333333333,\"#31688e\"],[0.4444444444444444,\"#26828e\"],[0.5555555555555556,\"#1f9e89\"],[0.6666666666666666,\"#35b779\"],[0.7777777777777778,\"#6ece58\"],[0.8888888888888888,\"#b5de2b\"],[1.0,\"#fde725\"]]},\"colorway\":[\"#1F77B4\",\"#FF7F0E\",\"#2CA02C\",\"#D62728\",\"#9467BD\",\"#8C564B\",\"#E377C2\",\"#7F7F7F\",\"#BCBD22\",\"#17BECF\"],\"font\":{\"color\":\"rgb(36,36,36)\"},\"geo\":{\"bgcolor\":\"white\",\"lakecolor\":\"white\",\"landcolor\":\"white\",\"showlakes\":true,\"showland\":true,\"subunitcolor\":\"white\"},\"hoverlabel\":{\"align\":\"left\"},\"hovermode\":\"closest\",\"mapbox\":{\"style\":\"light\"},\"paper_bgcolor\":\"white\",\"plot_bgcolor\":\"white\",\"polar\":{\"angularaxis\":{\"gridcolor\":\"rgb(232,232,232)\",\"linecolor\":\"rgb(36,36,36)\",\"showgrid\":false,\"showline\":true,\"ticks\":\"outside\"},\"bgcolor\":\"white\",\"radialaxis\":{\"gridcolor\":\"rgb(232,232,232)\",\"linecolor\":\"rgb(36,36,36)\",\"showgrid\":false,\"showline\":true,\"ticks\":\"outside\"}},\"scene\":{\"xaxis\":{\"backgroundcolor\":\"white\",\"gridcolor\":\"rgb(232,232,232)\",\"gridwidth\":2,\"linecolor\":\"rgb(36,36,36)\",\"showbackground\":true,\"showgrid\":false,\"showline\":true,\"ticks\":\"outside\",\"zeroline\":false,\"zerolinecolor\":\"rgb(36,36,36)\"},\"yaxis\":{\"backgroundcolor\":\"white\",\"gridcolor\":\"rgb(232,232,232)\",\"gridwidth\":2,\"linecolor\":\"rgb(36,36,36)\",\"showbackground\":true,\"showgrid\":false,\"showline\":true,\"ticks\":\"outside\",\"zeroline\":false,\"zerolinecolor\":\"rgb(36,36,36)\"},\"zaxis\":{\"backgroundcolor\":\"white\",\"gridcolor\":\"rgb(232,232,232)\",\"gridwidth\":2,\"linecolor\":\"rgb(36,36,36)\",\"showbackground\":true,\"showgrid\":false,\"showline\":true,\"ticks\":\"outside\",\"zeroline\":false,\"zerolinecolor\":\"rgb(36,36,36)\"}},\"shapedefaults\":{\"fillcolor\":\"black\",\"line\":{\"width\":0},\"opacity\":0.3},\"ternary\":{\"aaxis\":{\"gridcolor\":\"rgb(232,232,232)\",\"linecolor\":\"rgb(36,36,36)\",\"showgrid\":false,\"showline\":true,\"ticks\":\"outside\"},\"baxis\":{\"gridcolor\":\"rgb(232,232,232)\",\"linecolor\":\"rgb(36,36,36)\",\"showgrid\":false,\"showline\":true,\"ticks\":\"outside\"},\"bgcolor\":\"white\",\"caxis\":{\"gridcolor\":\"rgb(232,232,232)\",\"linecolor\":\"rgb(36,36,36)\",\"showgrid\":false,\"showline\":true,\"ticks\":\"outside\"}},\"title\":{\"x\":0.05},\"xaxis\":{\"automargin\":true,\"gridcolor\":\"rgb(232,232,232)\",\"linecolor\":\"rgb(36,36,36)\",\"showgrid\":false,\"showline\":true,\"ticks\":\"outside\",\"title\":{\"standoff\":15},\"zeroline\":false,\"zerolinecolor\":\"rgb(36,36,36)\"},\"yaxis\":{\"automargin\":true,\"gridcolor\":\"rgb(232,232,232)\",\"linecolor\":\"rgb(36,36,36)\",\"showgrid\":false,\"showline\":true,\"ticks\":\"outside\",\"title\":{\"standoff\":15},\"zeroline\":false,\"zerolinecolor\":\"rgb(36,36,36)\"}}},\"title\":{\"text\":\"Mean reward over all runs\"}},                        {\"responsive\": true}                    ).then(function(){\n",
              "                            \n",
              "var gd = document.getElementById('fc719543-6603-4cbc-a187-7623b49ea3a2');\n",
              "var x = new MutationObserver(function (mutations, observer) {{\n",
              "        var display = window.getComputedStyle(gd).display;\n",
              "        if (!display || display === 'none') {{\n",
              "            console.log([gd, 'removed!']);\n",
              "            Plotly.purge(gd);\n",
              "            observer.disconnect();\n",
              "        }}\n",
              "}});\n",
              "\n",
              "// Listen for the removal of the full notebook cells\n",
              "var notebookContainer = gd.closest('#notebook-container');\n",
              "if (notebookContainer) {{\n",
              "    x.observe(notebookContainer, {childList: true});\n",
              "}}\n",
              "\n",
              "// Listen for the clearing of the current output cell\n",
              "var outputEl = gd.closest('.output');\n",
              "if (outputEl) {{\n",
              "    x.observe(outputEl, {childList: true});\n",
              "}}\n",
              "\n",
              "                        })                };                            </script>        </div>\n",
              "</body>\n",
              "</html>"
            ]
          },
          "metadata": {}
        }
      ],
      "source": [
        "class RewardAveraging(Agent):\n",
        "    def __init__(self, num_arms: int, seed: int, epsilon: float, optimism: float):\n",
        "        self.epsilon = epsilon\n",
        "        self.optimism = optimism\n",
        "        super().__init__(num_arms, seed)\n",
        "\n",
        "    def get_action(self):\n",
        "        rand = self.rng.random()\n",
        "        if rand < self.epsilon:\n",
        "          arm = self.rng.integers(low = 0, high = num_arms - 1, size = 1).item()\n",
        "        else:\n",
        "          arm = np.argmax(self.Q)\n",
        "        return arm\n",
        "\n",
        "    def observe(self, action, reward, info):\n",
        "        if self.N[action] == 0 and self.Q[action] == 0:\n",
        "          self.Q[action] = reward\n",
        "        else:\n",
        "          self.Q[action] = self.Q[action] + (1/self.N[action]) * (reward - self.Q[action])\n",
        "        self.N[action] += 1\n",
        "\n",
        "    def reset(self, seed: int):\n",
        "        Agent.reset(self, seed)\n",
        "        self.Q = [float(0) for arm in range(0,num_arms-1)] #average reward\n",
        "        self.N = [float(0) for arm in range(0,num_arms-1)] #number of times that arm has been selected\n",
        "\n",
        "    def __repr__(self):\n",
        "        # For the legend, when plotting\n",
        "        return f\"RewardAveraging(eps={self.epsilon}, optimism={self.optimism})\"\n",
        "\n",
        "\n",
        "num_arms = 10\n",
        "stationary = True\n",
        "names = []\n",
        "all_rewards = []\n",
        "env = gym.make(\"ArmedBanditTestbed-v0\", num_arms=num_arms, stationary=stationary)\n",
        "\n",
        "for optimism in [0, 5]:\n",
        "    agent = RewardAveraging(num_arms, 0, epsilon=0.01, optimism=optimism)\n",
        "    (rewards, num_correct) = run_agent(env, agent, n_runs=N_RUNS, base_seed=1)\n",
        "    all_rewards.append(rewards)\n",
        "    names.append(str(agent))\n",
        "    print(agent)\n",
        "    print(f\" -> Frequency of correct arm: {num_correct.mean():.4f}\")\n",
        "    print(f\" -> Average reward: {rewards.mean():.4f}\")\n",
        "\n",
        "utils.plot_rewards(all_rewards, names, moving_avg_window=15)"
      ]
    },
    {
      "cell_type": "markdown",
      "metadata": {
        "id": "5jX_K0FODP-Z"
      },
      "source": [
        "<details>\n",
        "<summary>Question - can you interpret these results?</summary>\n",
        "\n",
        "At the very start, the more optimistic agent performs worse, because it explores more and exploits less (here you will see it at the very beginning if you zoom in). Its estimates are wildly over-optimistic, so even if it finds a good arm, its Q-value for that arm will decrease. On the other hand, if the realistic agent finds a good arm early on, it'll probably return to exploit it.\n",
        "\n",
        "However, the optimistic agent eventually outperforms the realistic agent, because its increased exploration means it's more likely to converge on the best arm.\n",
        "</details>\n",
        "\n",
        "<details>\n",
        "<summary>Question - how do you think these results would change if epsilon was decreased for both agents?</summary>\n",
        "\n",
        "You should expect the optimistic agent to outperform the realistic agent even more. The smaller epsilon is, the more necessary optimism is (because without it the agent won't explore enough).\n",
        "</details>\n"
      ]
    },
    {
      "cell_type": "markdown",
      "metadata": {
        "id": "XG51uq11DP-Z"
      },
      "source": [
        "### Exercise - implement cheater agent\n",
        "\n",
        "```c\n",
        "Difficulty: 🔴🔴⚪⚪⚪\n",
        "Importance: 🔵🔵🔵⚪⚪\n",
        "\n",
        "You should spend up to 5-15 minutes on this exercise.\n",
        "\n",
        "It's important for you to understand why cheater agents are important for debugging.\n",
        "```\n",
        "\n",
        "The cheater agent will always choose the best arm. It's a good idea to implement, because you can compare your other agents to it to make sure they're not doing better than the cheater (if they are, you probably have a bug!).\n",
        "\n",
        "\n",
        "You should fill in the methods `get_action` and `observe` below. The cheater agent will always choose the best arm available to it (remember that the best arm is stored in the `info` dictionary of each observation - see the `step` method in the `MultiArmedBandit` class)."
      ]
    },
    {
      "cell_type": "code",
      "execution_count": null,
      "metadata": {
        "id": "NiP9ZMiuDP-Z"
      },
      "outputs": [],
      "source": [
        "class CheatyMcCheater(Agent):\n",
        "    def __init__(self, num_arms: int, seed: int):\n",
        "        super().__init__(num_arms, seed)\n",
        "        self.best_arm = 0\n",
        "\n",
        "    def get_action(self):\n",
        "        # YOUR CODE HERE\n",
        "        pass\n",
        "\n",
        "    def observe(self, action: int, reward: float, info: dict):\n",
        "        # YOUR CODE HERE\n",
        "        pass\n",
        "\n",
        "    def __repr__(self):\n",
        "        return \"Cheater\"\n",
        "\n",
        "\n",
        "cheater = CheatyMcCheater(num_arms, 0)\n",
        "reward_averaging = RewardAveraging(num_arms, 0, epsilon=0.1, optimism=0)\n",
        "random = RandomAgent(num_arms, 0)\n",
        "\n",
        "names = []\n",
        "all_rewards = []\n",
        "\n",
        "for agent in [cheater, reward_averaging, random]:\n",
        "    (rewards, num_correct) = run_agent(env, agent, n_runs=N_RUNS, base_seed=1)\n",
        "    names.append(str(agent))\n",
        "    all_rewards.append(rewards)\n",
        "\n",
        "utils.plot_rewards(all_rewards, names, moving_avg_window=15)\n",
        "\n",
        "assert (all_rewards[0] < all_rewards[1]).mean() < 0.001, \"Cheater should be better than reward averaging\"\n",
        "print(\"Tests passed!\")"
      ]
    },
    {
      "cell_type": "markdown",
      "metadata": {
        "id": "o45NJT57DP-a"
      },
      "source": [
        "### The Authentic RL Experience\n",
        "\n",
        "It would be nice if we could say something like \"optimistic reward averaging is a good/bad feature that improves/decreases performance in bandit problems.\" Unfortunately, we can't justifiably claim either at this point.\n",
        "\n",
        "Usually, RL code fails silently, which makes it difficult to be confident that you don't have any bugs. I had a bug in my first attempt that made both versions appear to perform equally, and there were only 13 lines of code, and I had written similar code before.\n",
        "\n",
        "The number of hyperparameters also grows rapidly, and hyperparameters have interactions with each other. Even in this simple problem, we already have two different ways to encourage exploration (`epsilon` and `optimism`), and it's not clear whether it's better to use one or the other, or both in some combination. It's actually worse than that, because `epsilon` should probably be annealed down at some rate.\n",
        "\n",
        "Even in this single comparison, we trained 200 agents for each version. Is that a big number or a small number to estimate the effect size? Probably we should like, compute some statistics? And test with a different number of arms - maybe we need more exploration for more arms? The time needed for a rigorous evaluation is going to increase quickly.\n",
        "\n",
        "We're using 0.23.1 of `gym`, which is not the latest version. 0.24.0 and 0.24.1 according to the [release notes](https://github.com/openai/gym/releases) have \"large bugs\" and the maintainers \"highly discourage using these releases\". How confident are we in the quality of the library code we're relying on?\n",
        "\n",
        "As we continue onward to more complicated algorithms, keep an eye out for small discrepancies or minor confusions. Look for opportunities to check and cross-check everything, and be humble with claims.\n"
      ]
    },
    {
      "cell_type": "markdown",
      "metadata": {
        "id": "jNFL8SJbDP-a"
      },
      "source": [
        "### Exercise - implement `UCBASelection`\n",
        "\n",
        "```c\n",
        "Difficulty: 🔴🔴🔴⚪⚪\n",
        "Importance: 🔵🔵⚪⚪⚪\n",
        "\n",
        "You should spend up to 15-30 minutes on this exercise.\n",
        "```\n",
        "\n",
        "Once you feel good about your `RewardAveraging` implementation, you should implement `UCBActionSelection`.\n",
        "\n",
        "This should store the same moving average rewards for each action as `RewardAveraging` did, but instead of taking actions using the epsilon-greedy strategy it should use Equation 2.10 in Section 2.7 to select actions using the upper confidence bound.\n",
        "\n",
        "You should expect to see a small improvement over `RewardAveraging` using this strategy.\n",
        "\n",
        "*Tip - be careful of division-by-zero errors!*"
      ]
    },
    {
      "cell_type": "code",
      "execution_count": null,
      "metadata": {
        "id": "wC4aPMNUDP-a"
      },
      "outputs": [],
      "source": [
        "class UCBActionSelection(Agent):\n",
        "    def __init__(self, num_arms: int, seed: int, c: float, eps: float = 1e-6):\n",
        "        super().__init__(num_arms, seed)\n",
        "        self.c = c\n",
        "        self.eps = eps\n",
        "\n",
        "    def get_action(self):\n",
        "        # YOUR CODE HERE\n",
        "        pass\n",
        "\n",
        "    def observe(self, action, reward, info):\n",
        "        # YOUR CODE HERE\n",
        "        pass\n",
        "\n",
        "    def reset(self, seed: int):\n",
        "        # YOUR CODE HERE\n",
        "        pass\n",
        "\n",
        "    def __repr__(self):\n",
        "        return f\"UCB(c={self.c})\"\n",
        "\n",
        "\n",
        "cheater = CheatyMcCheater(num_arms, 0)\n",
        "reward_averaging = RewardAveraging(num_arms, 0, epsilon=0.1, optimism=0)\n",
        "reward_averaging_optimism = RewardAveraging(num_arms, 0, epsilon=0.1, optimism=5)\n",
        "ucb = UCBActionSelection(num_arms, 0, c=2.0)\n",
        "random = RandomAgent(num_arms, 0)\n",
        "\n",
        "names = []\n",
        "all_rewards = []\n",
        "\n",
        "for agent in [cheater, reward_averaging, reward_averaging_optimism, ucb, random]:\n",
        "    (rewards, num_correct) = run_agent(env, agent, n_runs=N_RUNS, base_seed=1)\n",
        "    names.append(str(agent))\n",
        "    all_rewards.append(rewards)\n",
        "\n",
        "utils.plot_rewards(all_rewards, names, moving_avg_window=15)"
      ]
    },
    {
      "cell_type": "markdown",
      "metadata": {
        "id": "uWPBl7_tDP-a"
      },
      "source": [
        "## Bonus\n",
        "\n",
        "Here are a few bonus exercises you can try if you're interested. You could instead progress to the second section, and return to them if you have time.\n",
        "\n",
        "* Implement the gradient bandit algorithm.\n",
        "* Implement an environment and an agent for the contextual bandit problem.\n",
        "* Complete the exercises at the end of Chapter 2 of Sutton and Barto.\n"
      ]
    },
    {
      "cell_type": "markdown",
      "metadata": {
        "id": "T0WNTVVFDP-a"
      },
      "source": [
        "# 2️⃣ Tabular RL & Policy Improvement\n"
      ]
    },
    {
      "cell_type": "markdown",
      "metadata": {
        "id": "uud4KiXADP-a"
      },
      "source": [
        "> ##### Learning Objectives\n",
        ">\n",
        "> * Understand the tabular RL problem, for known environments.\n",
        "> * Learn how to numerically evaluate a given policy (via an iterative update formula).\n",
        "> * Understand the policy improvement theorem, and understand what circumstances can allow us to directly solve for the optimal policy.\n"
      ]
    },
    {
      "cell_type": "markdown",
      "metadata": {
        "id": "4ol9FUFRDP-a"
      },
      "source": [
        "## RL, Known Environments\n",
        "\n",
        "We are presented with a environment, and the transition function that indicates how the environment will transition from state to state based on the action chosen. We will see how we can turn the problem of finding the best agent into an optimization problem, which we can then solve iteratively.\n",
        "\n",
        "Here, we assume environments small enough where visiting all pairs of states and actions is tractable. These types of models don't learn any relationships between states that can be treated similarly, but keep track of an estimate\n",
        "of how valuable each state is in a large lookup table.\n"
      ]
    },
    {
      "cell_type": "markdown",
      "metadata": {
        "id": "i8vSBxwLDP-d"
      },
      "source": [
        "## Readings (optional)\n",
        "\n",
        "There are no compulsory readings before the material in this section, although the following sections of [Sutton and Barto](https://www.andrew.cmu.edu/course/10-703/textbook/BartoSutton.pdf) are relevant and so you may want to refer to them if you get stuck / confused with anything:\n",
        "\n",
        "- Chapter 3, Sections 3.1, 3.2, 3.3, 3.4, 3.5, 3.6\n",
        "- Chapter 4, Sections 4.1, 4.2, 4.3, 4.4\n"
      ]
    },
    {
      "cell_type": "markdown",
      "metadata": {
        "id": "khRNeFgADP-d"
      },
      "source": [
        "## What is Reinforcement Learning?\n",
        "\n",
        "In reinforcement learning, the agent interacts with an environment in a loop: The agent in state $s$ issues an **action** $a$ to the environment, and the environment replies with **state, reward** pairs $(s',r)$. We will assume the environment is **Markovian**, in that the next state $s'$ and reward $r$ depend solely on the current state $s$ and the action $a$ chosen by the agent (as opposed to environments which may depend on actions taken far in the past.)\n",
        "\n",
        "Note - some of the sections below have a TLDR at the start. This indicates that not the entire section is crucially important to read and understand (e.g. it's a small pedantic note or a mathematical divergence), and you can safely read the TLDR and move onto the next section if you want.\n"
      ]
    },
    {
      "cell_type": "markdown",
      "metadata": {
        "id": "ruNweOs5DP-d"
      },
      "source": [
        "### Trajectories\n",
        "\n",
        "We define a trajectory in RL as a sequence of states and actions:\n",
        "\n",
        "$$\n",
        "s_0, a_0, r_1, s_1, a_1, r_2, s_2, a_2, r_3, \\ldots\n",
        "$$\n",
        "\n",
        "With this notation, it's the environment action that causes the timestep transition. In other words, given state $s_t$ the agent returns action $a_t$ (in the same time step), but given $(s_t, a_t)$ the environment generates $(s_{t+1}, r_{t+1})$.\n",
        "\n",
        "> *Note - some authors use the convention that the agent's action causes the timestep transition, i.e. the trajectory looks like $s_0, a_0, r_0, s_1, a_1, r_1, \\ldots$. We're following the convention in Sutton & Barto here, but it's important to be aware of this possible notation difference when reading other sources.*\n",
        "\n",
        "The agent chooses actions using a policy $\\pi$, which we can think of as either a deterministic function $a = \\pi(s)$ from states to actions, or more generally a stochastic function from which actions are sampled, $a \\sim \\pi(\\cdot | s)$.\n",
        "\n",
        "Implicitly, we have assumed that the agent need only be Markovian as well (i.e. the action depends on the current state, not past states). Do you think this this a reasonable assumption? You should think about this before reading the dropdown.\n",
        "\n",
        "<details>\n",
        "<summary>Answer / discussion</summary>\n",
        "\n",
        "In most environments, this may well be a reasonable assumption. For example, in a game of tic-tac-toe, knowledge of the current state of the board is sufficient to determine the optimal move, how the board got to that state is irrelevant.\n",
        "\n",
        "There are more complex environments where a Markovian assumption wouldn't work. One classic example is a game of poker, since past player behaviour (betting patterns, bluffing, etc) might change what the optimal strategy is at a given point in time, even if the resulting game state is the same.\n",
        "\n",
        "Of course, a non-Markovian game can be turned Markovian by redefining the state space to include relevant historical information, but this is splitting hairs.\n",
        "\n",
        "</details>\n",
        "\n",
        "\n",
        "The environment samples (state, reward) pairs from a probability distribution conditioned on the current state $s$ and the action $a$ the policy chose in that state, $(s', r) \\sim p(\\cdot | s, a)$. In the case where the environment is also deterministic, we write $(s', r) = p(s, a)$.\n",
        "\n"
      ]
    },
    {
      "cell_type": "markdown",
      "source": [
        "### Value function\n",
        "\n",
        "The goal of the agent is to choose a policy that maximizes the **expected discounted return**, the sum of rewards it would expect to obtain by following it's currently chosen **policy** $\\pi$. We call the expected discounted return from a state $s$ following policy $\\pi$ the **state value function** $V_{\\pi}(s)$, or simply **value function**, as\n",
        "$$\n",
        "V_{\\pi}(s) = \\mathbb{E}_{\\pi} \\left[ \\sum_{i=t}^\\infty \\gamma^{i-t} r_{i+1} \\Bigg| s_t = s \\right]\n",
        "$$\n",
        "where the expectation is with respect to sampling actions from $\\pi$, and (implicitly) sampling states and rewards from $p$.\n",
        "\n",
        "> *Note - technically $V_\\pi$ is also a function of the choice of environment $p$ and discount factor $\\gamma$. We write $V_\\pi$ rather than $V_{\\pi, p, \\gamma}$ simply because during training we're usually just optimizing for $\\pi$.\n",
        "\n",
        "Here are a few divergences into the exact nature of the reward function. You can just read the TLDRs and move on if you're not super interested in the deeper mathematics.\n",
        "\n",
        "#### Divergence #1: why do we discount?\n",
        "\n",
        "***TLDR: not discounting would lead to a bunch of problems when we try to sum an infinite sequence of rewards, since that sum could be unbounded (or more generally non-converging).***\n",
        "\n",
        "We would like a way to signal to the agent that reward now is better than reward later.\n",
        "If we didn't discount, the sum $\\sum_{i=t}^\\infty r_i$ may diverge.\n",
        "This leads to strange behavior, as we can't meaningfully compare the returns for sequences of rewards that diverge. Trying to sum the sequence $1,1,1,\\ldots$ or $2,2,2,2\\ldots$ or even $2, -1, 2 , -1, \\ldots$ is a problem since they all diverge to positive infinity. An agent with a policy that leads to infinite expected return might become lazy, as waiting around doing nothing for a thousand years, and then actually optimally leads to the same return (infinite) as playing optimal from the first time step.\n",
        "\n",
        "Worse still, we can have reward sequences for which the sum may never approach any finite value, nor diverge to $\\pm \\infty$ (like summing $-1, 1, -1 ,1 , \\ldots$).\n",
        "We could otherwise patch this by requiring that the agent has a finite number of interactions with the environment (this is often true, and is called an **episodic** environment that we will see later) or restrict ourselves to environments for which the expected return for the optimal policy is finite, but these can often be undesirable constraints to place.\n",
        "\n",
        "#### Divergence #2: why do we discount geometrically?\n",
        "\n",
        "***TLDR: geometric discounting is \"time consistent\", since the nature of the problem looks the same from each timestep.***\n",
        "\n",
        "In general, we could consider a more general discount function $\\Gamma : \\mathbb{N} \\to [0,1)$ and define the discounted return as $\\sum_{i=t}^\\infty \\Gamma(i) r_i$. The geometric discount $\\Gamma(i) = \\gamma^i$ is commonly used, but other discounts include the hyperbolic discount $\\Gamma(i) = \\frac{1}{1 + iD}$, where $D>0$ is a hyperparameter. (Humans are [often said](https://chris-said.io/2018/02/04/hyperbolic-discounting/) to act as if they use a hyperbolic discount.) Other than  being mathematically convenient to work with (as the sum of geometric discounts has an elegant closed form expression $\\sum_{i=0}^\\infty \\gamma^i  = \\frac{1}{1-\\gamma}$), geometric is preferred as it is *time consistent*, that is, the discount from one time step to the next remains constant.\n",
        "Rewards at timestep $t+1$ are always worth a factor of $\\gamma$ less than rewards on timestep $t$\n",
        "\n",
        "$$\n",
        "\\frac{\\Gamma(t+1)}{\\Gamma(t)} = \\frac{\\gamma^{t+1}}{\\gamma^t} = \\gamma\n",
        "$$\n",
        "\n",
        "whereas for the hyperbolic reward, the amount discounted from one step to the next\n",
        "is a function of the timestep itself, and decays to 1 (no discount)\n",
        "\n",
        "$$\n",
        "\\frac{\\Gamma(t+1)}{\\Gamma(t)} =  \\frac{1+tD}{1+(t+1)D} \\to 1\n",
        "$$\n",
        "\n",
        "so very little discounting is done once rewards are far away enough in the future.\n",
        "\n",
        "Hence, using geometric discount lends a certain symmetry to the problem. If after $N$ actions the agent ends up in exactly the same state as it was in before, then there will be less total value remaining (because of the decay rate), but the optimal policy won't change (because the rewards the agent gets if it takes a series of actions will just be a scaled-down version of the rewards it would have gotten for those actions $N$ steps ago)."
      ],
      "metadata": {
        "id": "HMXqEcOp-5FQ"
      }
    },
    {
      "cell_type": "markdown",
      "metadata": {
        "id": "_J1fuSEBDP-e"
      },
      "source": [
        "### Bellman equation\n",
        "\n",
        "> Note we can write the value function in the following recursive manner:\n",
        ">\n",
        "> $$\n",
        "> V_\\pi(s) = \\sum_a \\pi(a | s) \\sum_{s', r} p(s',r \\mid s, a) \\left( r + \\gamma V_\\pi(s') \\right)\n",
        "> $$\n",
        ">\n",
        "> (Optional) Try to prove this for yourself!\n",
        ">\n",
        "> <details>\n",
        "> <summary>Hint</summary>\n",
        ">\n",
        "> Start by writing the expectation as a sum over all possible actions $a$ that can be taken from state $s$. Then, try to separate $r_{t+1}$ and the later reward terms inside the sum.\n",
        "> </details>\n",
        ">\n",
        "> <details>\n",
        "> <summary>Answer</summary>\n",
        ">\n",
        "> First, we write it out as a sum over possible next actions, using the **policy function** $\\pi$:\n",
        "> $$\n",
        "> \\begin{aligned}\n",
        "> V_\\pi(s) &=\\mathbb{E}_\\pi\\left[\\sum_{i=t}^{\\infty} \\gamma^{i-t} r_{i+1} \\mid s_t=s\\right] \\\\\n",
        "> &=\\sum_a \\pi(a \\mid s) \\mathbb{E}_\\pi\\left[\\sum_{i=t}^{\\infty} \\gamma^{i-t} r_{i+1} \\mid s_t=s, a_t=a\\right]\n",
        "> \\end{aligned}\n",
        "> $$\n",
        "> In other words, this is an average of the possible expected reward streams after a particular action, weighted by the probability that this action is chosen.\n",
        ">\n",
        "> We can then separate out the term for the rewward at step $t+1$:\n",
        "> $$\n",
        "> =\\sum_a \\pi(a \\mid s) \\mathbb{E}_\\pi\\left[r_{t+1}+\\sum_{i=t+1}^{\\infty} \\gamma^{i-t} r_{i+1} \\mid s_t=s, a_t=a\\right]\n",
        "> $$\n",
        "> And then we expand the sum over all possible state-reward pairs $(s', r)$ which we might evolve to, following state-action pair $(s, a)$:\n",
        "> $$\n",
        "> \\begin{aligned}\n",
        "> &=\\sum_{a, s^{\\prime}, r} \\pi(a \\mid s) p\\left(s^{\\prime}, r \\mid s, a\\right)\\left(r+\\gamma \\cdot \\mathbb> {E}_\\pi\\left[\\sum_{i=t+1}^{\\infty} \\gamma^{i-(t+1)} r_{i+1} \\mid s_{t+1}=s^{\\prime}\\right]\\right) \\\\\n",
        "> \\end{aligned}\n",
        "> $$\n",
        "> Finally, we can notice that the sum term looks a lot like our original expression for $V_{\\pi}(s)$, just starting from $s'$ rather than $s$. So we can write this as:\n",
        "> $$\n",
        "> \\begin{aligned}\n",
        "> &=\\sum_{a, s, r} \\pi(a \\mid s) p\\left(s^{\\prime}, r \\mid s, a\\right)\\left(r+\\gamma V_\\pi\\left(s^{\\prime}\\right)\\right) \\\\\n",
        "> \\end{aligned}\n",
        "> $$\n",
        "> And finally, we rearrange the sum terms:\n",
        "> $$\n",
        "> \\begin{aligned}\n",
        "> &=\\sum_a \\pi(a \\mid s) \\sum_{s^{\\prime}, r} p\\left(s^{\\prime}, r \\mid s, a\\right)\\left(r+\\gamma V_\\pi\\left(s^{\\prime}\\right)\\right)\n",
        "> \\end{aligned}\n",
        "> $$\n",
        "> as required.\n",
        ">\n",
        "> How should we interpret this? This formula tells us that the total value from present time can be written as sum of next-timestep rewards and value terms discounted by a factor of $\\gamma$. Recall earlier in our discussion of **geometric** vs **hyperbolic** discounting, we argued that geometric discounting has a symmetry through time, because of the constant discount factor. This is exactly what this formula shows, just on the scale of a single step.\n",
        ">\n",
        "> </details>\n",
        "\n",
        "This recursive formulation of the value function is called the **Bellman equation**, and can be thought of as <i>\"(value of following policy $\\pi$ at current state) = (value of next reward, which is determined from following $\\pi$) + (discounted value at next state if we continue following $\\pi$)\"</i>.\n",
        "\n",
        "We can also define the **action-value function**, or **Q-value** of state $s$ and action $a$ following policy $\\pi$:\n",
        "\n",
        "$$\n",
        "Q_\\pi(s,a) = \\mathbb{E}\\left[ \\sum_{i=t}^\\infty \\gamma^{i-t}r_{t+1} \\Bigg| s_t=s, a_t=a   \\right]\n",
        "$$\n",
        "\n",
        "which can be written recursively much like the value function can:\n",
        "\n",
        "$$\n",
        "Q_\\pi(s,a) = \\sum_{s',r} p(s',r \\mid s,a) \\left( r + \\gamma \\sum_{a'} \\pi(a' \\mid s') Q_\\pi(s', a') \\right)\n",
        "$$\n",
        "\n",
        "This equation can be thought of as <i>\"(value of choosing particular action $a$ at current state, then following $\\pi$) = (value of next reward, which is determined from action $a$) + (discounted value at next state if we continue following $\\pi$)\"</i>. In other words it's conceptually the same equation as before but rewritten in terms of $Q$, conditionining on what the next action is before we go back to following $\\pi$.\n",
        "\n",
        "<details>\n",
        "<summary>Question - what do you think is the formula relating V and Q to each other?</summary>\n",
        "\n",
        "$V_\\pi(s)$ is the value at a given state according to policy $\\pi$, but this must be the average of all the values of taking action $a$ at this state, weighted by the probability that they're taken (under $\\pi$). So we have:\n",
        "\n",
        "$$\n",
        "V_\\pi(s) = \\sum_a \\pi(a \\mid s) Q_\\pi(s, a)\n",
        "$$\n",
        "\n",
        "Note, this also gives a slightly different form of the Q-value Bellman equation, which will be useful for policy iteration later on:\n",
        "\n",
        "$$\n",
        "Q_\\pi(s,a) = \\sum_{s',r} p(s',r \\mid s,a) \\left( r + \\gamma V_\\pi(s')\\right)\n",
        "$$\n",
        "\n",
        "</details>\n",
        "\n"
      ]
    },
    {
      "cell_type": "markdown",
      "source": [
        "### Optimal policies\n",
        "\n",
        "We say that two policies $\\pi_1$ and $\\pi_2$ are **equivalent** if $\\forall s \\in S. V_{\\pi_1}(s) = V_{\\pi_2}(s)$. A policy $\\pi_1$ is **better** than $\\pi_2$ (denoted $\\pi_1 \\geq \\pi_2$) if\n",
        "$\\forall s \\in S. V_{\\pi_1}(s) \\geq V_{\\pi_2}(s)$.\n",
        "\n",
        "An **optimal** policy (denoted $\\pi^*$) is a policy that is better than all other policies. There may be more than one optimal policy, so we refer to any of them as $\\pi^*$, with the understanding that since all optimal policies have the same value $V_{\\pi^*}$ for all states, it doesn't actually matter which is chosen.\n",
        "\n",
        "It is possible to prove that, for any environment, an optimal policy exists, but we won't go into detail on this proof today.\n"
      ],
      "metadata": {
        "id": "TiCzwGPG__o6"
      }
    },
    {
      "cell_type": "markdown",
      "metadata": {
        "id": "vkXtF4yCDP-e"
      },
      "source": [
        "### Theory Exercises: 3-state environment\n",
        "\n",
        "(These are mostly to check your understanding of the readings on RL.\n",
        "Feel free to skip ahead if you're already happy with the definition.)\n",
        "\n",
        "Consider the following environment: There are two actions $A = \\{a_L, a_R\\}$, three states $S = \\{s_0, s_L, s_R\\}$ and three rewards $R = \\{0,1,2\\}$. The environment is deterministic, and can be represented by the following transition diagram:\n",
        "\n",
        "<img src=\"https://raw.githubusercontent.com/callummcdougall/computational-thread-art/master/example_images/misc/markov-diagram.png\" width=\"400\">\n",
        "\n",
        "The edges represent the state transitions given an action, as well as the reward received. For example, in state $s_0$, taking action $a_L$ means the new state is $s_L$, and the reward received is $+1$. (The transitions for $s_L$ and $s_R$ are independent of action taken.)\n",
        "\n",
        "This gives us effectively two choices of deterministic policies, $\\pi_L(s_0) = s_L$ and $\\pi_R(s_0) = s_R$. (It is irrelevant what those policies do in the other states.)\n",
        "\n",
        "\n"
      ]
    },
    {
      "cell_type": "markdown",
      "metadata": {
        "id": "HVZuecheDP-e"
      },
      "source": [
        "### Exercise - compute the value $V_{\\pi}(s_0)$ for $\\pi = \\pi_L$ and $\\pi = \\pi_R$.\n",
        "\n",
        "```c\n",
        "Difficulty: 🔴🔴🔴⚪⚪\n",
        "Importance: 🔵🔵🔵⚪⚪\n",
        "\n",
        "You should spend up to 15-25 minutes on this exercise.\n",
        "\n",
        "This is a good exercise to build your intuition for these formulas and expressions.\n",
        "```\n",
        "\n",
        "Which policy is better? Does the answer depend on the choice of discount factor $\\gamma$? If so, how?\n",
        "\n",
        "<details>\n",
        "<summary>Answer</summary>\n",
        "\n",
        "Following the first policy, this gives\n",
        "$$\n",
        "V_{\\pi_L}(s_0) = 1 + \\gamma V_{\\pi_L}(s_L) = 1 + \\gamma(0 + \\gamma V_{\\pi_L}(s_0)) = 1 +\\gamma^2 V_{\\pi_L}(s_0)\n",
        "$$\n",
        "Rearranging, this gives\n",
        "$$\n",
        "V_{\\pi_L}(s_0) = \\frac{1}{1-\\gamma^2}\n",
        "$$\n",
        "Following the second policy, this gives\n",
        "$$\n",
        "V_{\\pi_R}(s_0) = 0 + \\gamma V_{\\pi_R}(s_R) = \\gamma(2 + \\gamma V_{\\pi_R}(s_0)) = 2 \\gamma + \\gamma^2 V_{\\pi_R}(s_0)\n",
        "$$\n",
        "Rearranging, this gives\n",
        "$$\n",
        "V_{\\pi_R}(s_0) = \\frac{2\\gamma}{1-\\gamma^2}\n",
        "$$\n",
        "Therefore,\n",
        "$$\n",
        "\\pi^* = \\begin{cases}\n",
        "\\pi_L & \\gamma < 1/2 \\\\\n",
        "\\pi_L \\text{ or } \\pi_R & \\gamma = 1/2 \\\\\n",
        "\\pi_R & \\gamma > 1/2\n",
        "\\end{cases}\n",
        "$$\n",
        "which makes sense, an agent that discounts heavily ($\\gamma < 1/2$) is shortsighted,\n",
        "and will choose the reward 1 now, over the reward 2 later.\n",
        "</details>\n"
      ]
    },
    {
      "cell_type": "markdown",
      "metadata": {
        "id": "wGyVYrjSDP-e"
      },
      "source": [
        "## Tabular RL, Known Environments\n",
        "\n",
        "For the moment, we focus on environments for which the agent has access to $p$, the function describing the underlying dynamics of the environment, which will allow us to solve the Bellman equation explicitly. While unrealistic, it means we can explicitly solve the Bellman equation. Later on we will remove this assumption and treat the environment as a black box from which the agent can sample from.\n",
        "\n",
        "We will simplify things a bit further, and assume that the environment samples states from a probability distribution $T(\\cdot | s, a)$ conditioned on the current state $s$ and the action $a$ the policy $\\pi$ chose in that state.\n",
        "\n",
        "Normally, the reward is also considered to be a stochastic function of both state and action $r \\sim  R(\\cdot \\mid s,a)$, but we will assume the reward is a deterministic function $R(s,a,s')$ of the current state, action and next state, and offload the randomness in the rewards to the next state $s'$ sampled from $T$.\n",
        "\n",
        "This (together with assuming $\\pi$ is deterministic) gives a simpler recursive form of the value function\n",
        "\n",
        "$$\n",
        "V_\\pi(s) = \\sum_{s'} T(s' \\mid s, a) \\Big( R(s,a,s') + \\gamma V_\\pi (s') \\Big)\n",
        "\\text{ where } a = \\pi(s)\n",
        "$$\n",
        "\n",
        "and in $Q$-value form:\n",
        "\n",
        "$$\n",
        "\\begin{aligned}\n",
        "Q_\\pi(s,a) &= \\sum_{s'} T(s' \\mid s,a) \\left( R(s, a, s') + \\gamma \\sum_{a'} \\pi(a' \\mid s') Q_\\pi (s', a') \\right) \\\\ &= \\sum_{s'} T(s' \\mid s,a) \\left( R(s, a, s') + \\gamma V_\\pi(s') \\right)\n",
        "\\end{aligned}\n",
        "$$\n",
        "\n",
        "Below, we've provided a simple environment for a gridworld taken from [Russell and Norvig](http://aima.cs.berkeley.edu/). The agent can choose one of four actions: `up` (0), `right` (1), `down` (2) and `left` (3), encoded as numbers. The observation is just the state that the agent is in (encoded as a number from 0 to 11).\n",
        "\n",
        "<img src=\"https://raw.githubusercontent.com/callummcdougall/computational-thread-art/master/example_images/misc/gridworld.png\" width=\"300\">\n",
        "\n",
        "The result of choosing an action from an empty cell will move the agent in that direction, unless they would bump into a wall or walk outside the grid, in which case the next state is unchanged. Both the terminal states \"trap\" the agent, and any movement from one of the terminal states leaves the agent in the same state, and no reward is received. The agent receives a small penalty for each move $r = -0.04$ to encourage them to move to a terminal state quickly, unless the agent is moving into a terminal state, in which case they recieve reward either $+1$ or $-1$ as appropriate.\n",
        "\n",
        "Lastly, the environment is slippery, and the agent only has a 70\\% chance of moving in the direction chosen, with a 10% chance each of attempting to move in the other three cardinal directions.\n",
        "\n",
        "<details>\n",
        "<summary>There are two possible routes to +1, starting from the cell immediately to the <b>right of START</b>. Which one do you think the agent will prefer? How do you think changing the penalty value r=-0.04 to something else might affect this?\n",
        "</summary>\n",
        "\n",
        "The two routes are moving clockwise and anticlockwise around the center obstacle.\n",
        "\n",
        "The clockwise route requires more steps, which (assuming $r<0$) will be penalised more.\n",
        "\n",
        "But the anticlockwise route has a different disadvantage. The agent has a 70% probability of slipping, and the anticlockwise route brings them into closer proximity with the $-1$ terminal state.\n",
        "\n",
        "We can guess that there is a certain threshold value $r^* < 0$ such that the optimal policy is clockwise when $r<r^*$ (because movement penalty is large, making the anticlockwise route less attractive), and anticlockwise when $r>r^*$.\n",
        "\n",
        "You can test this out (and find the approximate value of $r^*$) when you run your RL agent!\n",
        "</details>\n",
        "\n",
        "Provided is a class that allows us to define environments with known dynamics. The only parts you should be concerned\n",
        "with are\n",
        "\n",
        "* `.num_states`, which gives the number of states,\n",
        "* `.num_actions`, which gives the number of actions\n",
        "* `.T`, a 3-tensor of shape  `(num_states, num_actions, num_states)` representing the probability $T(s_{next} \\mid s, a)$ = `T[s,a,s_next]`\n",
        "* `.R`, the reward function, encoded as a vector of shape `(num_states, num_actions, num_states)` that returns the reward $R(s,a,s_{next})$ = `R[s,a,s_next]` associated with entering state $s_{next}$ from state $s$ by taking action $a$.\n",
        "\n",
        "This environment also provides two additional parameters which we will not use now, but need for part 3 where the environment is treated as a black box, and agents learn from interaction.\n",
        "* `.start`, the state with which interaction with the environment begins. By default, assumed to be state zero.\n",
        "* `.terminal`, a list of all the terminal states (with which interaction with the environment ends). By default, terminal states are empty.\n"
      ]
    },
    {
      "cell_type": "code",
      "execution_count": null,
      "metadata": {
        "id": "Yb4XlpO-DP-f"
      },
      "outputs": [],
      "source": [
        "class Environment:\n",
        "    def __init__(self, num_states: int, num_actions: int, start=0, terminal=None):\n",
        "        self.num_states = num_states\n",
        "        self.num_actions = num_actions\n",
        "        self.start = start\n",
        "        self.terminal = np.array([], dtype=int) if terminal is None else terminal\n",
        "        (self.T, self.R) = self.build()\n",
        "\n",
        "    def build(self):\n",
        "        '''\n",
        "        Constructs the T and R tensors from the dynamics of the environment.\n",
        "\n",
        "        Returns:\n",
        "            T : (num_states, num_actions, num_states) State transition probabilities\n",
        "            R : (num_states, num_actions, num_states) Reward function\n",
        "        '''\n",
        "        num_states = self.num_states\n",
        "        num_actions = self.num_actions\n",
        "        T = np.zeros((num_states, num_actions, num_states))\n",
        "        R = np.zeros((num_states, num_actions, num_states))\n",
        "        for s in range(num_states):\n",
        "            for a in range(num_actions):\n",
        "                (states, rewards, probs) = self.dynamics(s, a)\n",
        "                (all_s, all_r, all_p) = self.out_pad(states, rewards, probs)\n",
        "                T[s, a, all_s] = all_p\n",
        "                R[s, a, all_s] = all_r\n",
        "        return (T, R)\n",
        "\n",
        "    def dynamics(self, state: int, action: int) -> Tuple[Arr, Arr, Arr]:\n",
        "        '''\n",
        "        Computes the distribution over possible outcomes for a given state\n",
        "        and action.\n",
        "\n",
        "        Args:\n",
        "            state  : int (index of state)\n",
        "            action : int (index of action)\n",
        "\n",
        "        Returns:\n",
        "            states  : (m,) all the possible next states\n",
        "            rewards : (m,) rewards for each next state transition\n",
        "            probs   : (m,) likelihood of each state-reward pair\n",
        "        '''\n",
        "        raise NotImplementedError()\n",
        "\n",
        "    def render(pi: Arr):\n",
        "        '''\n",
        "        Takes a policy pi, and draws an image of the behavior of that policy, if applicable.\n",
        "\n",
        "        Args:\n",
        "            pi : (num_actions,) a policy\n",
        "\n",
        "        Returns:\n",
        "            None\n",
        "        '''\n",
        "        raise NotImplementedError()\n",
        "\n",
        "    def out_pad(self, states: Arr, rewards: Arr, probs: Arr):\n",
        "        '''\n",
        "        Args:\n",
        "            states  : (m,) all the possible next states\n",
        "            rewards : (m,) rewards for each next state transition\n",
        "            probs   : (m,) likelihood of each state-reward pair\n",
        "\n",
        "        Returns:\n",
        "            states  : (num_states,) all the next states\n",
        "            rewards : (num_states,) rewards for each next state transition\n",
        "            probs   : (num_states,) likelihood of each state-reward pair (including zero-prob outcomes.)\n",
        "        '''\n",
        "        out_s = np.arange(self.num_states)\n",
        "        out_r = np.zeros(self.num_states)\n",
        "        out_p = np.zeros(self.num_states)\n",
        "        for i in range(len(states)):\n",
        "            idx = states[i]\n",
        "            out_r[idx] += rewards[i]\n",
        "            out_p[idx] += probs[i]\n",
        "        return (out_s, out_r, out_p)"
      ]
    },
    {
      "cell_type": "markdown",
      "metadata": {
        "id": "ZPgx981rDP-f"
      },
      "source": [
        "For example, here is the toy environment from the theory exercises earlier (the **3-state environment**) implemented in this format.\n",
        "\n",
        "*Note - don't spend too much time reading this code and the plots generated below; this is just designed to illustrate how we can implement a particular environment on top of our class above by defining certain environment dynamics. The environment you'll actually be working with is the gridworld environment described above.*\n",
        "\n",
        "<img src=\"https://raw.githubusercontent.com/callummcdougall/computational-thread-art/master/example_images/misc/markov-diagram.png\" width=\"400\">\n"
      ]
    },
    {
      "cell_type": "code",
      "execution_count": null,
      "metadata": {
        "id": "gj06PKlADP-f"
      },
      "outputs": [],
      "source": [
        "class Toy(Environment):\n",
        "    def dynamics(self, state: int, action: int):\n",
        "        '''\n",
        "        Sets up dynamics for the toy environment:\n",
        "            - In state s_L, we move right & get +0 reward regardless of action\n",
        "            - In state s_R, we move left & get +2 reward regardless of action\n",
        "            - In state s_0, we can move left & get +1, or right & get +0\n",
        "        '''\n",
        "        (SL, S0, SR) = (0, 1, 2)\n",
        "        LEFT = 0\n",
        "        assert 0 <= state < self.num_states and 0 <= action < self.num_actions\n",
        "        if state == S0:\n",
        "            if action == LEFT:\n",
        "                (next_state, reward) = (SL, 1)\n",
        "            else:\n",
        "                (next_state, reward) = (SR, 0)\n",
        "        elif state == SL:\n",
        "            (next_state, reward) = (S0, 0)\n",
        "        elif state == SR:\n",
        "            (next_state, reward) = (S0, 2)\n",
        "        return (np.array([next_state]), np.array([reward]), np.array([1]))\n",
        "\n",
        "    def __init__(self):\n",
        "        super().__init__(num_states=3, num_actions=2)"
      ]
    },
    {
      "cell_type": "markdown",
      "metadata": {
        "id": "BPFuj637DP-f"
      },
      "source": [
        "Given a definition for the `dynamics` function, the `Environment` class automatically generates `T` and `R` for us.\n",
        "\n",
        "The code below plots transition probabilities & rewards. Intuitively, the plot of transition probabilities shows us (for each possible current state $s_L$) what are the transition probabilities to the next state $s_{next}$ for each possible action we could take, and the reward plot shows us the corresponding rewards.\n",
        "\n",
        "A few notes to explain the plots below:\n",
        "\n",
        "* Because the environment is deterministic, for a given state $s$ and action $a$ the transition probability is always 1 (it's certain what the next state $s_{next}$ will be).\n",
        "* Some of the values don't make sense, for instance if we're in state $s_L$ then action $a_L$ is not in the possible action space. The interpretation of this plot is \"if we're in state $s_L$, then whatever action we choose, we're moving right regardless\" (and vice-versa for being in state $s_R$).\n",
        "* We still have $R(s, a, s_{next})$ defined for illegal states (e.g. ones where $s_{next} = s$). But this is fine, because these rewards will never appear in our formula, since their transition probabilities are zero."
      ]
    },
    {
      "cell_type": "code",
      "execution_count": null,
      "metadata": {
        "id": "Lu2AjWgGDP-f"
      },
      "outputs": [],
      "source": [
        "toy = Toy()\n",
        "\n",
        "actions = [\"a_L\", \"a_R\"]\n",
        "states = [\"s_L\", \"S_0\", \"S_R\"]\n",
        "\n",
        "imshow(\n",
        "    toy.T, # dimensions (s, a, s_next)\n",
        "    title=\"Transition probabilities T(s_next | s, a) for toy environment\",\n",
        "    facet_col=0, facet_labels=[f\"Current state is s = {s}\" for s in states], y=actions, x=states,\n",
        "    labels = {\"x\": \"Next state (s_next)\", \"y\": \"Action at current state (a)\", \"color\": \"Transition<br>Probability\"},\n",
        "    text_auto = \".2f\", border=True, width=1200, height=450,\n",
        ")\n",
        "\n",
        "imshow(\n",
        "    toy.R, # dimensions (s, a, s_next)\n",
        "    title=\"Rewards R(s, a, s_next) for toy environment\",\n",
        "    facet_col=0, facet_labels=[f\"Current state is s = {s}\" for s in states], y=actions, x=states,\n",
        "    labels = {\"x\": \"Next state (s_next)\", \"y\": \"Action at current state (a)\", \"color\": \"Reward\"},\n",
        "    text_auto = \".2f\", border=True, width=1200, height=450,\n",
        ")"
      ]
    },
    {
      "cell_type": "markdown",
      "metadata": {
        "id": "78vM47VqDP-g"
      },
      "source": [
        "We also provide an implementation of the gridworld environment above.\n",
        "\n",
        "The `dynamics` function sets up the dynamics of the Gridworld environment: if the agent takes an action, there is a 70% chance the action is successful, and 10% chance the agent moves in one of the other 3 directions randomly. The rest of the code here deals with edge cases like hitting a wall or being in a terminal state. It's not important to fully read through & understand how this method works.\n",
        "\n",
        "We include a definition of `render`, which given a policy, prints out a grid showing the direction the policy will try to move in from each cell.\n"
      ]
    },
    {
      "cell_type": "code",
      "execution_count": null,
      "metadata": {
        "id": "Mu6Rw5HMDP-g"
      },
      "outputs": [],
      "source": [
        "class Norvig(Environment):\n",
        "    def dynamics(self, state: int, action: int) -> Tuple[Arr, Arr, Arr]:\n",
        "        def state_index(state):\n",
        "            assert 0 <= state[0] < self.width and 0 <= state[1] < self.height, print(state)\n",
        "            pos = state[0] + state[1] * self.width\n",
        "            assert 0 <= pos < self.num_states, print(state, pos)\n",
        "            return pos\n",
        "\n",
        "        pos = self.states[state]\n",
        "        if state in self.terminal or state in self.walls:\n",
        "            return (np.array([state]), np.array([0]), np.array([1]))\n",
        "        out_probs = np.zeros(self.num_actions) + 0.1\n",
        "        out_probs[action] = 0.7\n",
        "        out_states = np.zeros(self.num_actions, dtype=int) + self.num_actions\n",
        "        out_rewards = np.zeros(self.num_actions) + self.penalty\n",
        "        new_states = [pos + x for x in self.actions]\n",
        "        for (i, s_new) in enumerate(new_states):\n",
        "            if not (0 <= s_new[0] < self.width and 0 <= s_new[1] < self.height):\n",
        "                out_states[i] = state\n",
        "                continue\n",
        "            new_state = state_index(s_new)\n",
        "            if new_state in self.walls:\n",
        "                out_states[i] = state\n",
        "            else:\n",
        "                out_states[i] = new_state\n",
        "            for idx in range(len(self.terminal)):\n",
        "                if new_state == self.terminal[idx]:\n",
        "                    out_rewards[i] = self.goal_rewards[idx]\n",
        "        return (out_states, out_rewards, out_probs)\n",
        "\n",
        "    def render(self, pi: Arr):\n",
        "        assert len(pi) == self.num_states\n",
        "        emoji = [\"⬆️\", \"➡️\", \"⬇️\", \"⬅️\"]\n",
        "        grid = [emoji[act] for act in pi]\n",
        "        grid[3] = \"🟩\"\n",
        "        grid[7] = \"🟥\"\n",
        "        grid[5] = \"⬛\"\n",
        "        print(\"\".join(grid[0:4]) + \"\\n\" + \"\".join(grid[4:8]) + \"\\n\" + \"\".join(grid[8:]))\n",
        "\n",
        "    def __init__(self, penalty=-0.04):\n",
        "        self.height = 3\n",
        "        self.width = 4\n",
        "        self.penalty = penalty\n",
        "        num_states = self.height * self.width\n",
        "        num_actions = 4\n",
        "        self.states = np.array([[x, y] for y in range(self.height) for x in range(self.width)])\n",
        "        self.actions = np.array([[0, -1], [1, 0], [0, 1], [-1, 0]])\n",
        "        self.dim = (self.height, self.width)\n",
        "        terminal = np.array([3, 7], dtype=int)\n",
        "        self.walls = np.array([5], dtype=int)\n",
        "        self.goal_rewards = np.array([1.0, -1])\n",
        "        super().__init__(num_states, num_actions, start=8, terminal=terminal)\n",
        "\n",
        "\n",
        "# Example use of `render`: print out a random policy\n",
        "norvig = Norvig()\n",
        "pi_random = np.random.randint(0, 4, (12,))\n",
        "norvig.render(pi_random)"
      ]
    },
    {
      "cell_type": "markdown",
      "metadata": {
        "id": "4Qjl448hDP-g"
      },
      "source": [
        "## Policy Evaluation\n",
        "\n",
        "At the moment, we would like to determine the value function $V_\\pi$ of some policy $\\pi$. **We will assume policies are deterministic**, and encode policies as a lookup table from states to actions (so $\\pi$ will be a vector of shape `(num_states,)`, where each element is an integer `a` in the range `0 <= a < num_actions`, representing one of the possible actions to choose for that state.)\n",
        "\n",
        "Firstly, we will use the Bellman equation as an update rule: Given a current estimate $\\hat{V}_\\pi$ of the value function $V_{\\pi}$, we can obtain a better estimate by using the Bellman equation, sweeping over all states.\n",
        "$$\n",
        "\\forall s. \\hat{V}_\\pi(s) \\leftarrow \\sum_{s'} T(s' \\,|\\, s, a) \\left( R(s,a,s') + \\gamma \\hat{V}_\\pi(s') \\right) \\;\\text{ where } a = \\pi(s)\n",
        "$$\n",
        "Recall that the true value function $V_\\pi$ satisfies this as an equality, i.e. it is a fixed point of the iteration.\n",
        "\n",
        "(Also, remember how we defined our objects: `T[s, a, s']` $= T(s' \\,|\\, a, s)$, and `R[s, a, s']` $= R(s, a, s')$.)\n",
        "\n",
        "We continue looping this update rule until the result stabilizes: $\\max_s |\\hat{V}^{new}(s) - \\hat{V}^{old}(s)| < \\epsilon$ for some small $\\epsilon > 0$. Use $\\hat{V}_\\pi(s) = 0$ as your initial guess.\n"
      ]
    },
    {
      "cell_type": "markdown",
      "metadata": {
        "id": "hqhze-QsDP-g"
      },
      "source": [
        "### Exercise - implement `policy_eval_numerical`\n",
        "\n",
        "```c\n",
        "Difficulty: 🔴🔴🔴⚪⚪\n",
        "Importance: 🔵🔵🔵⚪⚪\n",
        "\n",
        "You should spend up to 15-30 minutes on this exercise.\n",
        "```\n",
        "\n",
        "The `policy_eval_numerical` function takes in a deterministic policy $\\pi$, and transition and reward matrices $T$ and $R$ (stored as `env.T` and `env.R`), and computes the value function $V_\\pi$ using the Bellman equation as an update rule. It keeps iterating until it reaches `max_iterations`, or the result stabilizes - which ever comes first.\n"
      ]
    },
    {
      "cell_type": "code",
      "execution_count": null,
      "metadata": {
        "id": "bRG3jZNaDP-g"
      },
      "outputs": [],
      "source": [
        "def policy_eval_numerical(env: Environment, pi: Arr, gamma=0.99, eps=1e-8, max_iterations=10_000) -> Arr:\n",
        "    '''\n",
        "    Numerically evaluates the value of a given policy by iterating the Bellman equation\n",
        "    Args:\n",
        "        env: Environment\n",
        "        pi : shape (num_states,) - The policy to evaluate\n",
        "        gamma: float - Discount factor\n",
        "        eps  : float - Tolerance\n",
        "        max_iterations: int - Maximum number of iterations to run\n",
        "    Outputs:\n",
        "        value : float (num_states,) - The value function for policy pi\n",
        "    '''\n",
        "    # YOUR CODE HERE\n",
        "    pass\n",
        "\n",
        "\n",
        "tests.test_policy_eval(policy_eval_numerical, exact=False)"
      ]
    },
    {
      "cell_type": "markdown",
      "metadata": {
        "id": "rezaDawDDP-h"
      },
      "source": [
        "## Exact Policy Evaluation\n",
        "\n",
        "Essentially what we are doing in the previous step is numerically solving the Bellman equation. Since the Bellman equation essentially gives us a set of simultaneous equations, we can solve it explicitly rather than iterating the Bellman update rule.\n",
        "\n",
        "> *Note - it's not absolutely essential to closely follow & intuitively understand all of this notation. The main things are (1) understand what the objects in the final formula given at the end represent (i.e. $\\mathbf{v}$, $P^\\pi$, and $\\mathbf{r}^\\pi$), and (2) understand why we can deterministically solve for the value of a policy in this particular case, when we might not be able to in general.*\n",
        "\n",
        "<details>\n",
        "<summary>Question - can you explain why we can solve for the value of a given policy directly in this case, but we might not be able to in others?</summary>\n",
        "\n",
        "The key conditions allowing us to solve directly are:\n",
        "\n",
        "* Finite state space & action space\n",
        "* Transition probabilities & rewards are known\n",
        "\n",
        "These will not hold in many cases we'll look at later - especially the second one, because our agent will only have partial observability of its environment.\n",
        "\n",
        "</details>\n",
        "\n",
        "Given a policy $\\pi$, consider $\\mathbf{v} \\in \\mathbb{R}^{|S|}$ to be a vector representing the value function $V_\\pi$ for each state.\n",
        "$$\n",
        "\\mathbf{v} = [V_\\pi(s_1), \\ldots, V_\\pi(s_{N})]\n",
        "$$\n",
        "and recall the Bellman equation:\n",
        "$$\n",
        "\\mathbf{v}_i = \\sum_{s'} T(s' \\mid s_i,\\pi(s)) \\left( R(s,\\pi(s),s') + \\gamma V_\\pi(s') \\right)\n",
        "$$\n",
        "We can define two matrices $P^\\pi$ and $R^\\pi$, both of shape `(num_states, num_states)`\n",
        "as\n",
        "$$\n",
        "P^\\pi_{i,j} = T(j \\,|\\, \\pi(i), i) \\quad R^\\pi_{i,j} = R(i, \\pi(i), j)\n",
        "$$\n",
        "$P^\\pi$ can be thought of as a probability transition matrix from current state to next state, and $R^\\pi$ is the reward function given current state and next state, assuming actions are chosen by $\\pi$.\n",
        "$$\n",
        "\\mathbf{v}_i = \\sum_{j} P^\\pi_{i,j} \\left( R^\\pi_{i,j} + \\gamma \\mathbf{v}_j \\right)\n",
        "$$\n",
        "$$\n",
        "\\mathbf{v}_i = \\sum_{j} P^\\pi_{i,j}  R^\\pi_{i,j} +  \\gamma \\sum_{j} P^\\pi_{i,j} \\mathbf{v}_j\n",
        "$$\n",
        "We can define $\\mathbf{r}^\\pi_i = \\sum_{j} P^\\pi_{i,j}  (R^\\pi)_{i,j} = (P^\\pi  (R^\\pi)^T)_{ii}$\n",
        "$$\n",
        "\\mathbf{v}_i = \\mathbf{r}_i^\\pi + \\gamma (P^\\pi \\mathbf{v})_i\n",
        "$$\n",
        "A little matrix algebra, and we obtain:\n",
        "$$\n",
        "\\mathbf{v} = (I - \\gamma P^\\pi)^{-1} \\mathbf{r}^\\pi\n",
        "$$\n",
        "which gives us a closed form solution for the value function $\\mathbf{v}$.\n",
        "\n",
        "Question (optional) - is the inverse $(I - \\gamma P^\\pi)^{-1}$ guaranteed to exist?\n",
        "\n",
        "<details>\n",
        "<summary>Answer</summary>\n",
        "\n",
        "Yes, for linear algebra-based reasons.\n",
        "\n",
        "</details>\n"
      ]
    },
    {
      "cell_type": "markdown",
      "metadata": {
        "id": "J2HGvbGfDP-h"
      },
      "source": [
        "### Exercise - implement `policy_eval_exact`\n",
        "\n",
        "```c\n",
        "Difficulty: 🔴🔴🔴⚪⚪\n",
        "Importance: 🔵🔵🔵⚪⚪\n",
        "\n",
        "You should spend up to 10-30 minutes on this exercise.\n",
        "```\n",
        "\n",
        "<details>\n",
        "<summary>Help - I'm not sure where to start.</summary>\n",
        "\n",
        "You can define the matrix $P^\\pi$ indexing `env.T` with the states and corresponding actions `pi` (i.e. you have a 2D array whose elements are $T(s' \\mid s, \\pi(s))$ for all $s, s'$). Same for defining $R^\\pi$ from the reward matrix.\n",
        "\n",
        "</details>\n"
      ]
    },
    {
      "cell_type": "code",
      "execution_count": null,
      "metadata": {
        "id": "JK65eTTjDP-h"
      },
      "outputs": [],
      "source": [
        "def policy_eval_exact(env: Environment, pi: Arr, gamma=0.99) -> Arr:\n",
        "    '''\n",
        "    Finds the exact solution to the Bellman equation.\n",
        "    '''\n",
        "    # YOUR CODE HERE\n",
        "    pass\n",
        "\n",
        "\n",
        "tests.test_policy_eval(policy_eval_exact, exact=True)"
      ]
    },
    {
      "cell_type": "markdown",
      "metadata": {
        "id": "QRCfwMZcDP-h"
      },
      "source": [
        "## Policy Improvement\n",
        "\n",
        "So, we now have a way to compute the value of a policy. What we are really interested in is finding better policies. One way we can do this is to compare how well $\\pi$ performs on a state versus the value obtained by choosing another action instead, that is, the Q-value. If there is an action $a'$ for which $Q_{\\pi}(s,a') > V_\\pi(s) \\equiv Q_\\pi(s, \\pi(s))$, then we would prefer that $\\pi$ take action $a'$ in state $s$ rather than whatever action $\\pi(s)$ currently is. Recall that we could write out our Bellman equation like this:\n",
        "\n",
        "$$\n",
        "Q_\\pi(s,a) = \\sum_{s'} T(s' \\mid s,a) \\left( R(s, a, s') + \\gamma V_\\pi(s') \\right)\n",
        "$$\n",
        "\n",
        "which gives us an update rule for our policy $\\pi$, given that we've evaluated $V_\\pi$ using our closed-form expression from earlier:\n",
        "\n",
        "1. For each possible state $s$ and action $a$, calculate the thing on the right hand side of this expression\n",
        "2. Take argmax over $a$, and this gives us the new action that we should take in state $s$.\n",
        "\n",
        "Or in other words:\n",
        "\n",
        "$$\n",
        "\\pi^\\text{better}(s) = \\text{argmax}_a \\sum_{s'} T(s' \\mid s, a) (R(s,a,s') + \\gamma V_{\\pi}(s'))\n",
        "$$"
      ]
    },
    {
      "cell_type": "markdown",
      "metadata": {
        "id": "2S6f3qP5DP-h"
      },
      "source": [
        "### Exercise - implement `policy_improvement`\n",
        "\n",
        "```c\n",
        "Difficulty: 🔴🔴🔴⚪⚪\n",
        "Importance: 🔵🔵🔵🔵⚪\n",
        "\n",
        "You should spend up to 10-25 minutes on this exercise.\n",
        "```\n",
        "\n",
        "The `policy_improvement` function takes in a value function $V$, and transition and reward matrices $T$ and $R$ (stored as `env.T` and `env.R`), and returns a new policy $\\pi^\\text{better}$."
      ]
    },
    {
      "cell_type": "code",
      "execution_count": null,
      "metadata": {
        "id": "RkUPxLg6DP-h"
      },
      "outputs": [],
      "source": [
        "def policy_improvement(env: Environment, V: Arr, gamma=0.99) -> Arr:\n",
        "    '''\n",
        "    Args:\n",
        "        env: Environment\n",
        "        V  : (num_states,) value of each state following some policy pi\n",
        "    Outputs:\n",
        "        pi_better : vector (num_states,) of actions representing a new policy obtained via policy iteration\n",
        "    '''\n",
        "    # YOUR CODE HERE\n",
        "    pass\n",
        "\n",
        "\n",
        "tests.test_policy_improvement(policy_improvement)"
      ]
    },
    {
      "cell_type": "markdown",
      "metadata": {
        "id": "JyY7ugMZDP-i"
      },
      "source": [
        "Putting these together, we now have an algorithm to find the optimal policy for an environment.\n",
        "\n",
        "$$\n",
        "\\pi_0 \\overset{E}{\\to} V_{\\pi_0}\n",
        "\\overset{I}{\\to} \\pi_1 \\overset{E}{\\to} V_{\\pi_1}\n",
        "\\overset{I}{\\to} \\pi_2 \\overset{E}{\\to} V_{\\pi_2} \\overset{I}{\\to}  \\ldots\n",
        "$$\n",
        "\n",
        "We alternate policy evaluation ($\\overset{E}{\\to}$) and policy improvement ($\\overset{I}{\\to}$), with each $I$ step being a monotonic improvement, until the policy no longer changes ($\\pi_n = \\pi_{n+1}$), at which point we have an optimal policy, as our current policy will satisfy the optimal Bellman equations:\n",
        "\n",
        "$$\n",
        "V_{\\pi^*} = \\text{argmax}_a \\sum_{s'} T(s' \\mid s,a) (R(s,a,s') + \\gamma V_{\\pi^*}(s'))\n",
        "$$\n"
      ]
    },
    {
      "cell_type": "markdown",
      "metadata": {
        "id": "pfPiyUu0DP-i"
      },
      "source": [
        "### Exercise - implement `find_optimal_policy`\n",
        "\n",
        "```c\n",
        "Difficulty: 🔴🔴🔴⚪⚪\n",
        "Importance: 🔵🔵🔵🔵⚪\n",
        "\n",
        "You should spend up to 15-30 minutes on this exercise.\n",
        "```\n",
        "\n",
        "Implement the `find_optimal_policy` function below. This should iteratively do the following:\n",
        "\n",
        "* find the correct value function $V_{\\pi}$ for your given policy $\\pi$ using your `policy_eval_exact` function,\n",
        "* update your policy using `policy_improvement`,\n",
        "\n",
        "where we start from any arbitrary value of $\\pi_0$ (we've picked all zeros).\n",
        "\n",
        "A few things to note:\n",
        "\n",
        "* Don't forget that policies should be of `dtype=int`, rather than floats! $\\pi$ in this case represents **the deterministic action you take in each state**.\n",
        "* Since the optimal policy is not unique, the automated tests will merely check that your optimal policy has the same value function as the optimal policy found by the solution.\n"
      ]
    },
    {
      "cell_type": "code",
      "execution_count": null,
      "metadata": {
        "id": "04Rj9J5IDP-i"
      },
      "outputs": [],
      "source": [
        "def find_optimal_policy(env: Environment, gamma=0.99, max_iterations=10_000):\n",
        "    '''\n",
        "    Args:\n",
        "        env: environment\n",
        "    Outputs:\n",
        "        pi : (num_states,) int, of actions represeting an optimal policy\n",
        "    '''\n",
        "    pi = np.zeros(shape=env.num_states, dtype=int)\n",
        "    # YOUR CODE HERE\n",
        "    pass\n",
        "\n",
        "\n",
        "\n",
        "tests.test_find_optimal_policy(find_optimal_policy)\n",
        "\n",
        "penalty = -0.04\n",
        "norvig = Norvig(penalty)\n",
        "pi_opt = find_optimal_policy(norvig, gamma=0.99)\n",
        "norvig.render(pi_opt)"
      ]
    },
    {
      "cell_type": "markdown",
      "metadata": {
        "id": "QVUNWX1FDP-i"
      },
      "source": [
        "Once you've passed the tests, you should play around with the `penalty` value for the gridworld environment and see how this affects the optimal policy found. Which squares change their optimal strategy when the penalty takes different negative values (e.g. -0.04, -0.1, or even -1)? Can you see why this happens?\n",
        "\n",
        "<details>\n",
        "<summary>Click this dropdown to read the answer.</summary>\n",
        "\n",
        "The two possible routes to the end square are moving clockwise and anticlockwise around the center obstacle.\n",
        "\n",
        "The clockwise route requires more steps, which (assuming $r<0$) will be penalised more. The anticlockwise route has a different disadvantage. The agent has a 70% probability of slipping, and the anticlockwise route brings them into closer proximity with the $-1$ terminal state.\n",
        "\n",
        "You should find a certain threshold value $r^* < 0$ such that the optimal policy is clockwise when $r<r^*$ (because movement penalty is large, making the anticlockwise route less attractive), and anticlockwise when $r>r^*$.\n",
        "\n",
        "Lastly, for a very large negative value of $r$, you should see the model moving to the red square as soon as possible if it's closer than the green square, since even taking a penalty of $-1$ for hitting red is better than taking more time-based penalties to get to green!\n",
        "\n",
        "</details>"
      ]
    },
    {
      "cell_type": "markdown",
      "metadata": {
        "id": "ukp81W69DP-i"
      },
      "source": [
        "## Bonus\n",
        "\n",
        "- Implement and test your policy evaluation method on other environments.\n",
        "- Complete some exercises in Chapters 3 and 4 of Sutton and Barto.\n",
        "- Modify the tabular RL solvers to allow stochastic policies or to allow $\\gamma=1$ on episodic environments (may need to change how environments are defined.)\n"
      ]
    }
  ],
  "metadata": {
    "colab": {
      "provenance": [],
      "machine_shape": "hm",
      "gpuType": "V100",
      "collapsed_sections": [
        "jd3LpCav3UXu",
        "2FdRD-CmDP-W",
        "0fIDmvKFDP-X",
        "T0WNTVVFDP-a"
      ],
      "include_colab_link": true
    },
    "kernelspec": {
      "display_name": "Python 3",
      "name": "python3"
    },
    "language_info": {
      "codemirror_mode": {
        "name": "ipython",
        "version": 3
      },
      "file_extension": ".py",
      "mimetype": "text/x-python",
      "name": "python",
      "nbconvert_exporter": "python",
      "pygments_lexer": "ipython3",
      "version": "3.10.9"
    }
  },
  "nbformat": 4,
  "nbformat_minor": 0
}